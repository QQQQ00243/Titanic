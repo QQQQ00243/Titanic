{
 "cells": [
  {
   "cell_type": "markdown",
   "id": "3596e667-2a4e-4fc5-801b-8ef713bcc457",
   "metadata": {},
   "source": [
    "Titanic"
   ]
  },
  {
   "cell_type": "markdown",
   "id": "ddf4180c-d9a0-4d57-a69e-8cbb00644942",
   "metadata": {},
   "source": [
    "# Setup"
   ]
  },
  {
   "cell_type": "markdown",
   "id": "ec0610b4-438f-47ba-ac39-f5006da478d9",
   "metadata": {},
   "source": [
    "## Import packages"
   ]
  },
  {
   "cell_type": "code",
   "execution_count": 1,
   "id": "427e1337-a244-45e2-a974-7156a8ab7360",
   "metadata": {},
   "outputs": [],
   "source": [
    "import pandas as pd\n",
    "import numpy as np\n",
    "import seaborn as sns\n",
    "import matplotlib.pyplot as plt\n",
    "import utils\n",
    "import random\n",
    "\n",
    "from sklearn.model_selection import cross_val_score"
   ]
  },
  {
   "cell_type": "code",
   "execution_count": 2,
   "metadata": {
    "collapsed": false,
    "pycharm": {
     "name": "#%%\n"
    }
   },
   "outputs": [],
   "source": [
    "np.random.seed(42)\n",
    "random.seed(42)\n",
    "TRAIN_PATH = \"./data/train.csv\"\n",
    "IMAGES_PATH = \"./images\""
   ]
  },
  {
   "cell_type": "markdown",
   "id": "77195e17-58bf-4c4d-ad1b-5243c4bf098c",
   "metadata": {},
   "source": [
    "# Get the Data"
   ]
  },
  {
   "cell_type": "code",
   "execution_count": 3,
   "id": "b3a79944-0f0d-4468-8206-1d456b1f5962",
   "metadata": {},
   "outputs": [],
   "source": [
    "def load_train_data(train_path=TRAIN_PATH):\n",
    "    csv_path = train_path\n",
    "    return pd.read_csv(csv_path)\n",
    "\n",
    "data = load_train_data()"
   ]
  },
  {
   "cell_type": "markdown",
   "id": "38cfbc2c-e328-4261-ae2a-7175cd22b702",
   "metadata": {
    "jp-MarkdownHeadingCollapsed": true,
    "tags": []
   },
   "source": [
    "# Data Analysis"
   ]
  },
  {
   "cell_type": "markdown",
   "id": "0367e3b9-cdd0-4665-bbc6-d4e3e0286346",
   "metadata": {},
   "source": [
    "## An Overview of the Data"
   ]
  },
  {
   "cell_type": "code",
   "execution_count": 269,
   "id": "7cecd5a5-337a-420f-8ffd-5fd765126c26",
   "metadata": {},
   "outputs": [
    {
     "name": "stdout",
     "output_type": "stream",
     "text": [
      "(891, 12)\n"
     ]
    },
    {
     "data": {
      "text/html": [
       "<div>\n",
       "<style scoped>\n",
       "    .dataframe tbody tr th:only-of-type {\n",
       "        vertical-align: middle;\n",
       "    }\n",
       "\n",
       "    .dataframe tbody tr th {\n",
       "        vertical-align: top;\n",
       "    }\n",
       "\n",
       "    .dataframe thead th {\n",
       "        text-align: right;\n",
       "    }\n",
       "</style>\n",
       "<table border=\"1\" class=\"dataframe\">\n",
       "  <thead>\n",
       "    <tr style=\"text-align: right;\">\n",
       "      <th></th>\n",
       "      <th>PassengerId</th>\n",
       "      <th>Survived</th>\n",
       "      <th>Pclass</th>\n",
       "      <th>Name</th>\n",
       "      <th>Sex</th>\n",
       "      <th>Age</th>\n",
       "      <th>SibSp</th>\n",
       "      <th>Parch</th>\n",
       "      <th>Ticket</th>\n",
       "      <th>Fare</th>\n",
       "      <th>Cabin</th>\n",
       "      <th>Embarked</th>\n",
       "    </tr>\n",
       "  </thead>\n",
       "  <tbody>\n",
       "    <tr>\n",
       "      <th>0</th>\n",
       "      <td>1</td>\n",
       "      <td>0</td>\n",
       "      <td>3</td>\n",
       "      <td>Braund, Mr. Owen Harris</td>\n",
       "      <td>male</td>\n",
       "      <td>22.0</td>\n",
       "      <td>1</td>\n",
       "      <td>0</td>\n",
       "      <td>A/5 21171</td>\n",
       "      <td>7.2500</td>\n",
       "      <td>NaN</td>\n",
       "      <td>S</td>\n",
       "    </tr>\n",
       "    <tr>\n",
       "      <th>1</th>\n",
       "      <td>2</td>\n",
       "      <td>1</td>\n",
       "      <td>1</td>\n",
       "      <td>Cumings, Mrs. John Bradley (Florence Briggs Th...</td>\n",
       "      <td>female</td>\n",
       "      <td>38.0</td>\n",
       "      <td>1</td>\n",
       "      <td>0</td>\n",
       "      <td>PC 17599</td>\n",
       "      <td>71.2833</td>\n",
       "      <td>C85</td>\n",
       "      <td>C</td>\n",
       "    </tr>\n",
       "    <tr>\n",
       "      <th>2</th>\n",
       "      <td>3</td>\n",
       "      <td>1</td>\n",
       "      <td>3</td>\n",
       "      <td>Heikkinen, Miss. Laina</td>\n",
       "      <td>female</td>\n",
       "      <td>26.0</td>\n",
       "      <td>0</td>\n",
       "      <td>0</td>\n",
       "      <td>STON/O2. 3101282</td>\n",
       "      <td>7.9250</td>\n",
       "      <td>NaN</td>\n",
       "      <td>S</td>\n",
       "    </tr>\n",
       "    <tr>\n",
       "      <th>3</th>\n",
       "      <td>4</td>\n",
       "      <td>1</td>\n",
       "      <td>1</td>\n",
       "      <td>Futrelle, Mrs. Jacques Heath (Lily May Peel)</td>\n",
       "      <td>female</td>\n",
       "      <td>35.0</td>\n",
       "      <td>1</td>\n",
       "      <td>0</td>\n",
       "      <td>113803</td>\n",
       "      <td>53.1000</td>\n",
       "      <td>C123</td>\n",
       "      <td>S</td>\n",
       "    </tr>\n",
       "    <tr>\n",
       "      <th>4</th>\n",
       "      <td>5</td>\n",
       "      <td>0</td>\n",
       "      <td>3</td>\n",
       "      <td>Allen, Mr. William Henry</td>\n",
       "      <td>male</td>\n",
       "      <td>35.0</td>\n",
       "      <td>0</td>\n",
       "      <td>0</td>\n",
       "      <td>373450</td>\n",
       "      <td>8.0500</td>\n",
       "      <td>NaN</td>\n",
       "      <td>S</td>\n",
       "    </tr>\n",
       "  </tbody>\n",
       "</table>\n",
       "</div>"
      ],
      "text/plain": [
       "   PassengerId  Survived  Pclass  \\\n",
       "0            1         0       3   \n",
       "1            2         1       1   \n",
       "2            3         1       3   \n",
       "3            4         1       1   \n",
       "4            5         0       3   \n",
       "\n",
       "                                                Name     Sex   Age  SibSp  \\\n",
       "0                            Braund, Mr. Owen Harris    male  22.0      1   \n",
       "1  Cumings, Mrs. John Bradley (Florence Briggs Th...  female  38.0      1   \n",
       "2                             Heikkinen, Miss. Laina  female  26.0      0   \n",
       "3       Futrelle, Mrs. Jacques Heath (Lily May Peel)  female  35.0      1   \n",
       "4                           Allen, Mr. William Henry    male  35.0      0   \n",
       "\n",
       "   Parch            Ticket     Fare Cabin Embarked  \n",
       "0      0         A/5 21171   7.2500   NaN        S  \n",
       "1      0          PC 17599  71.2833   C85        C  \n",
       "2      0  STON/O2. 3101282   7.9250   NaN        S  \n",
       "3      0            113803  53.1000  C123        S  \n",
       "4      0            373450   8.0500   NaN        S  "
      ]
     },
     "execution_count": 269,
     "metadata": {},
     "output_type": "execute_result"
    }
   ],
   "source": [
    "print(data.shape)\n",
    "data.head()"
   ]
  },
  {
   "cell_type": "markdown",
   "metadata": {
    "collapsed": false,
    "pycharm": {
     "name": "#%% md\n"
    }
   },
   "source": [
    "## Check the NULL values"
   ]
  },
  {
   "cell_type": "code",
   "execution_count": 5,
   "metadata": {
    "collapsed": false,
    "pycharm": {
     "name": "#%%\n"
    }
   },
   "outputs": [
    {
     "data": {
      "text/plain": [
       "Age         177\n",
       "Cabin       687\n",
       "Embarked      2\n",
       "dtype: int64"
      ]
     },
     "execution_count": 5,
     "metadata": {},
     "output_type": "execute_result"
    }
   ],
   "source": [
    "info = data.isnull().sum()\n",
    "info[info != 0]"
   ]
  },
  {
   "cell_type": "markdown",
   "metadata": {
    "collapsed": false,
    "pycharm": {
     "name": "#%% md\n"
    }
   },
   "source": [
    "These values must be filled with proper values latter on."
   ]
  },
  {
   "cell_type": "markdown",
   "id": "0eca903d-6e96-40e2-875b-2a1e7ab5cd2b",
   "metadata": {
    "tags": []
   },
   "source": [
    "## Feature analysis"
   ]
  },
  {
   "cell_type": "markdown",
   "id": "67453e5c-7376-4fc3-b0d1-4ae1ef895bfb",
   "metadata": {
    "tags": []
   },
   "source": [
    "### `Survived` - target"
   ]
  },
  {
   "cell_type": "code",
   "execution_count": 8,
   "id": "e1b5a2ab-fc85-4908-af25-18626b17c681",
   "metadata": {},
   "outputs": [
    {
     "data": {
      "text/plain": [
       "0    549\n",
       "1    342\n",
       "Name: Survived, dtype: int64"
      ]
     },
     "execution_count": 8,
     "metadata": {},
     "output_type": "execute_result"
    }
   ],
   "source": [
    "data[\"Survived\"].value_counts()"
   ]
  },
  {
   "cell_type": "markdown",
   "id": "f1fd1b94-64f0-4725-a5b5-44667e235ffa",
   "metadata": {
    "tags": []
   },
   "source": [
    "### `Pclass` and `Sex` and `Embarked`"
   ]
  },
  {
   "cell_type": "code",
   "execution_count": 164,
   "id": "29697846-2c12-49b5-b9ef-2fbc3a30bf4a",
   "metadata": {},
   "outputs": [
    {
     "data": {
      "image/png": "[encoded data removed]",
      "text/plain": [
       "<Figure size 1080x360 with 3 Axes>"
      ]
     },
     "metadata": {
      "needs_background": "light"
     },
     "output_type": "display_data"
    }
   ],
   "source": [
    "plt.figure(figsize=(15, 5))\n",
    "plt.subplot(131)\n",
    "sns.histplot(data=data, x=\"Pclass\", hue=\"Survived\", multiple=\"dodge\", shrink=2.0)\n",
    "plt.subplot(132)\n",
    "sns.histplot(data=data, x=\"Sex\", hue=\"Survived\", multiple=\"dodge\", shrink=.6)\n",
    "plt.subplot(133)\n",
    "sns.histplot(data=data, x=\"Embarked\", hue=\"Survived\", multiple=\"dodge\", shrink=.8)\n",
    "plt.savefig(IMAGES_PATH+'/Pclass_Sex_Embarked.png')\n",
    "\n",
    "plt.show()"
   ]
  },
  {
   "cell_type": "markdown",
   "id": "1727bb43",
   "metadata": {},
   "source": [
    "There exists a strong correlation between the survival chance and PClass, Sex, and the embarked Place."
   ]
  },
  {
   "cell_type": "markdown",
   "id": "9e78bd83-a08a-4788-b716-cb945f08a8a5",
   "metadata": {
    "tags": []
   },
   "source": [
    "### `Age`"
   ]
  },
  {
   "cell_type": "code",
   "execution_count": 41,
   "metadata": {
    "collapsed": false,
    "pycharm": {
     "name": "#%%\n"
    }
   },
   "outputs": [
    {
     "data": {
      "image/png": "[encoded data removed]",
      "text/plain": [
       "<Figure size 432x288 with 1 Axes>"
      ]
     },
     "metadata": {
      "needs_background": "light"
     },
     "output_type": "display_data"
    }
   ],
   "source": [
    "sns.violinplot(x =\"Sex\", y =\"Age\", hue =\"Survived\",data = data, split = True)\n",
    "plt.show()"
   ]
  },
  {
   "cell_type": "markdown",
   "id": "eac6b5bf",
   "metadata": {},
   "source": [
    "It seems that elder people are more likely to survive."
   ]
  },
  {
   "cell_type": "markdown",
   "id": "41d327f9",
   "metadata": {},
   "source": [
    "### `Fare`"
   ]
  },
  {
   "cell_type": "code",
   "execution_count": 23,
   "id": "29fb9adf",
   "metadata": {},
   "outputs": [
    {
     "data": {
      "image/png": "[encoded data removed]",
      "text/plain": [
       "<Figure size 300x300 with 1 Axes>"
      ]
     },
     "metadata": {},
     "output_type": "display_data"
    }
   ],
   "source": [
    "plt.rcParams[\"figure.figsize\"] = (3, 3)\n",
    "sns.violinplot(y=\"Fare\", x=\"Survived\", data=data, split=True)\n",
    "plt.show()"
   ]
  },
  {
   "cell_type": "markdown",
   "id": "64a78147",
   "metadata": {},
   "source": [
    "The distribution is distorted by outliers, maybe hidden pattern would be better revealed after clip operation."
   ]
  },
  {
   "cell_type": "code",
   "execution_count": 48,
   "id": "d79438c1",
   "metadata": {},
   "outputs": [
    {
     "data": {
      "image/png": "[encoded data removed]",
      "text/plain": [
       "<Figure size 900x300 with 3 Axes>"
      ]
     },
     "metadata": {},
     "output_type": "display_data"
    }
   ],
   "source": [
    "from sklearn.preprocessing import KBinsDiscretizer\n",
    "\n",
    "stgs = [\"kmeans\", \"uniform\", \"quantile\"]\n",
    "plt.rcParams[\"figure.figsize\"] = (9, 3)\n",
    "for i, stg in enumerate(stgs):\n",
    "    est = KBinsDiscretizer(n_bins=4, strategy=stg, encode=\"ordinal\")\n",
    "    ords = est.fit_transform(data[\"Fare\"].to_numpy().reshape((-1, 1)))\n",
    "\n",
    "    plt.subplot(1, 3, i+1)\n",
    "    plt.title(stg)\n",
    "    sns.histplot(x=ords.reshape((-1, )), hue=data[\"Survived\"], multiple=\"dodge\")\n"
   ]
  },
  {
   "cell_type": "code",
   "execution_count": 49,
   "id": "0a4301fa",
   "metadata": {},
   "outputs": [
    {
     "data": {
      "image/png": "[encoded data removed]",
      "text/plain": [
       "<Figure size 900x300 with 3 Axes>"
      ]
     },
     "metadata": {},
     "output_type": "display_data"
    }
   ],
   "source": [
    "lstNumBins = [3, 4, 5]\n",
    "\n",
    "plt.rcParams[\"figure.figsize\"] = (9, 3)\n",
    "for i, numBins in enumerate(lstNumBins):\n",
    "    est = KBinsDiscretizer(n_bins=numBins, strategy=\"kmeans\", encode=\"ordinal\")\n",
    "    ords = est.fit_transform(data[\"Fare\"].to_numpy().reshape((-1, 1)))\n",
    "\n",
    "    plt.subplot(1, 3, i+1)\n",
    "    plt.title(numBins)\n",
    "    sns.histplot(x=ords.reshape((-1, )), hue=data[\"Survived\"], multiple=\"dodge\")"
   ]
  },
  {
   "cell_type": "markdown",
   "id": "ce3b9c06",
   "metadata": {},
   "source": [
    "It seems that using `KBinsDiscretizer` with n_bins=3 and strategy=\"kmeans\" would be the best choice."
   ]
  },
  {
   "cell_type": "markdown",
   "id": "6fa39c98-af98-4d3e-a37e-a7c6638022e4",
   "metadata": {
    "tags": []
   },
   "source": [
    "### `SibSp` and `Parch` - Family Members"
   ]
  },
  {
   "cell_type": "code",
   "execution_count": 75,
   "id": "7b78d65a",
   "metadata": {},
   "outputs": [
    {
     "data": {
      "image/png": "[encoded data removed]",
      "text/plain": [
       "<Figure size 900x600 with 2 Axes>"
      ]
     },
     "metadata": {},
     "output_type": "display_data"
    }
   ],
   "source": [
    "plt.figure(figsize=(9, 6))\n",
    "\n",
    "plt.subplot(221)\n",
    "sns.histplot(data=data, x=\"SibSp\", hue=\"Survived\", multiple=\"dodge\", shrink=2)\n",
    "plt.subplot(222)\n",
    "sns.histplot(data=data, x=\"Parch\", hue=\"Survived\", multiple=\"dodge\", shrink=0.7)\n",
    "\n",
    "plt.show()"
   ]
  },
  {
   "cell_type": "code",
   "execution_count": 53,
   "id": "664182c7",
   "metadata": {},
   "outputs": [
    {
     "data": {
      "image/png": "[encoded data removed]",
      "text/plain": [
       "<Figure size 500x500 with 1 Axes>"
      ]
     },
     "metadata": {},
     "output_type": "display_data"
    }
   ],
   "source": [
    "plt.figure(figsize=(5, 5))\n",
    "data[\"numFM\"] = data[\"SibSp\"] + data[\"Parch\"]\n",
    "sns.histplot(data=data, x=\"numFM\", hue=\"Survived\", multiple=\"dodge\", shrink=2)\n",
    "plt.show()"
   ]
  },
  {
   "cell_type": "markdown",
   "id": "f5e6483b",
   "metadata": {},
   "source": [
    "Those who had no family or more than three family members with them are less likely to survive. It may be better to design a few categories. By observation we can see chance of surviving with number of family members with 0, 1-3, 4 and above show similar pattern."
   ]
  },
  {
   "cell_type": "code",
   "execution_count": 71,
   "id": "ef5171ef",
   "metadata": {},
   "outputs": [
    {
     "data": {
      "image/png": "[encoded data removed]",
      "text/plain": [
       "<Figure size 300x300 with 1 Axes>"
      ]
     },
     "metadata": {},
     "output_type": "display_data"
    }
   ],
   "source": [
    "def process_numFM(x):\n",
    "    if x == 0:\n",
    "        return 0\n",
    "    elif 1<=x<=3:\n",
    "        return 1\n",
    "    else:\n",
    "        return 2\n",
    "\n",
    "plt.figure(figsize=(3, 3))\n",
    "data[\"numFM\"] = data[\"SibSp\"] + data[\"Parch\"]\n",
    "data[\"numFM\"] = data[\"numFM\"].apply(process_numFM)\n",
    "sns.histplot(data=data, x=\"numFM\", hue=\"Survived\", multiple=\"dodge\", shrink=2)\n",
    "plt.show()"
   ]
  },
  {
   "cell_type": "markdown",
   "id": "0f824f13",
   "metadata": {},
   "source": [
    "### Fill `Age`"
   ]
  },
  {
   "cell_type": "markdown",
   "id": "bad60af4",
   "metadata": {},
   "source": [
    "First examine the relation between age and other features."
   ]
  },
  {
   "cell_type": "code",
   "execution_count": 273,
   "id": "27a1686b",
   "metadata": {},
   "outputs": [
    {
     "data": {
      "text/html": [
       "<div>\n",
       "<style scoped>\n",
       "    .dataframe tbody tr th:only-of-type {\n",
       "        vertical-align: middle;\n",
       "    }\n",
       "\n",
       "    .dataframe tbody tr th {\n",
       "        vertical-align: top;\n",
       "    }\n",
       "\n",
       "    .dataframe thead th {\n",
       "        text-align: right;\n",
       "    }\n",
       "</style>\n",
       "<table border=\"1\" class=\"dataframe\">\n",
       "  <thead>\n",
       "    <tr style=\"text-align: right;\">\n",
       "      <th></th>\n",
       "      <th>Age</th>\n",
       "      <th>Age</th>\n",
       "    </tr>\n",
       "    <tr>\n",
       "      <th>Title</th>\n",
       "      <th></th>\n",
       "      <th></th>\n",
       "    </tr>\n",
       "  </thead>\n",
       "  <tbody>\n",
       "    <tr>\n",
       "      <th>Capt</th>\n",
       "      <td>70.000000</td>\n",
       "      <td>1</td>\n",
       "    </tr>\n",
       "    <tr>\n",
       "      <th>Col</th>\n",
       "      <td>58.000000</td>\n",
       "      <td>2</td>\n",
       "    </tr>\n",
       "    <tr>\n",
       "      <th>Don</th>\n",
       "      <td>40.000000</td>\n",
       "      <td>1</td>\n",
       "    </tr>\n",
       "    <tr>\n",
       "      <th>Dr</th>\n",
       "      <td>42.000000</td>\n",
       "      <td>6</td>\n",
       "    </tr>\n",
       "    <tr>\n",
       "      <th>Jonkheer</th>\n",
       "      <td>38.000000</td>\n",
       "      <td>1</td>\n",
       "    </tr>\n",
       "    <tr>\n",
       "      <th>Lady</th>\n",
       "      <td>48.000000</td>\n",
       "      <td>1</td>\n",
       "    </tr>\n",
       "    <tr>\n",
       "      <th>Major</th>\n",
       "      <td>48.500000</td>\n",
       "      <td>2</td>\n",
       "    </tr>\n",
       "    <tr>\n",
       "      <th>Master</th>\n",
       "      <td>4.574167</td>\n",
       "      <td>36</td>\n",
       "    </tr>\n",
       "    <tr>\n",
       "      <th>Miss</th>\n",
       "      <td>21.773973</td>\n",
       "      <td>146</td>\n",
       "    </tr>\n",
       "    <tr>\n",
       "      <th>Mlle</th>\n",
       "      <td>24.000000</td>\n",
       "      <td>2</td>\n",
       "    </tr>\n",
       "    <tr>\n",
       "      <th>Mme</th>\n",
       "      <td>24.000000</td>\n",
       "      <td>1</td>\n",
       "    </tr>\n",
       "    <tr>\n",
       "      <th>Mr</th>\n",
       "      <td>32.368090</td>\n",
       "      <td>398</td>\n",
       "    </tr>\n",
       "    <tr>\n",
       "      <th>Mrs</th>\n",
       "      <td>35.898148</td>\n",
       "      <td>108</td>\n",
       "    </tr>\n",
       "    <tr>\n",
       "      <th>Ms</th>\n",
       "      <td>28.000000</td>\n",
       "      <td>1</td>\n",
       "    </tr>\n",
       "    <tr>\n",
       "      <th>Rev</th>\n",
       "      <td>43.166667</td>\n",
       "      <td>6</td>\n",
       "    </tr>\n",
       "    <tr>\n",
       "      <th>Sir</th>\n",
       "      <td>49.000000</td>\n",
       "      <td>1</td>\n",
       "    </tr>\n",
       "    <tr>\n",
       "      <th>theCountess</th>\n",
       "      <td>33.000000</td>\n",
       "      <td>1</td>\n",
       "    </tr>\n",
       "  </tbody>\n",
       "</table>\n",
       "</div>"
      ],
      "text/plain": [
       "                   Age  Age\n",
       "Title                      \n",
       "Capt         70.000000    1\n",
       "Col          58.000000    2\n",
       "Don          40.000000    1\n",
       "Dr           42.000000    6\n",
       "Jonkheer     38.000000    1\n",
       "Lady         48.000000    1\n",
       "Major        48.500000    2\n",
       "Master        4.574167   36\n",
       "Miss         21.773973  146\n",
       "Mlle         24.000000    2\n",
       "Mme          24.000000    1\n",
       "Mr           32.368090  398\n",
       "Mrs          35.898148  108\n",
       "Ms           28.000000    1\n",
       "Rev          43.166667    6\n",
       "Sir          49.000000    1\n",
       "theCountess  33.000000    1"
      ]
     },
     "execution_count": 273,
     "metadata": {},
     "output_type": "execute_result"
    }
   ],
   "source": [
    "def get_Title(data: pd.DataFrame):\n",
    "    titles = []\n",
    "    for name in data[\"Name\"].to_list():\n",
    "        last_name = name.split(\",\")[1]\n",
    "        title = last_name.split(\".\")[0]\n",
    "        titles.append(title.replace(\" \", \"\"))\n",
    "    data[\"Title\"] = titles\n",
    "\n",
    "get_Title(data)\n",
    "\n",
    "mask = data[\"Age\"].isnull()\n",
    "data_age = data[mask==0]\n",
    "\n",
    "res = pd.concat(\n",
    "    [\n",
    "        data_age.groupby(\"Title\")[\"Age\"].mean(),\n",
    "        data_age.groupby(\"Title\")[\"Age\"].count()\n",
    "    ],\n",
    "    axis=1,\n",
    ")\n",
    "res"
   ]
  },
  {
   "cell_type": "markdown",
   "id": "de55dbd2",
   "metadata": {},
   "source": [
    "Age does show different patterns with respect to title."
   ]
  },
  {
   "cell_type": "code",
   "execution_count": 95,
   "id": "1cc2faab",
   "metadata": {},
   "outputs": [
    {
     "data": {
      "text/plain": [
       "{' Dr', ' Master', ' Miss', ' Mr', ' Mrs'}"
      ]
     },
     "execution_count": 95,
     "metadata": {},
     "output_type": "execute_result"
    }
   ],
   "source": [
    "data_null_age = data[mask]\n",
    "set(data_null_age[\"Title\"])"
   ]
  },
  {
   "cell_type": "markdown",
   "id": "766cae8a",
   "metadata": {},
   "source": [
    "Missing of age only occurs in above groups."
   ]
  },
  {
   "cell_type": "markdown",
   "id": "6fcc8925",
   "metadata": {},
   "source": [
    "Let's try build a random forest regressor for `Age`, with features including `Title`, `Sex`, `Family_Members`, and `Fare`."
   ]
  },
  {
   "cell_type": "markdown",
   "id": "3d540863",
   "metadata": {},
   "source": [
    "Prepare data"
   ]
  },
  {
   "cell_type": "code",
   "execution_count": 79,
   "id": "cf52a347",
   "metadata": {},
   "outputs": [],
   "source": [
    "from sklearn.pipeline import Pipeline\n",
    "from sklearn.preprocessing import OneHotEncoder, StandardScaler\n",
    "from sklearn.compose import ColumnTransformer\n",
    "\n",
    "dis_attribs = [\"Fare\"]\n",
    "cat_attribs = [\"Pclass\", \"Sex\", \"numFM\", \"Embarked\", \"Title\"]\n",
    "\n",
    "data_with_age = data[data[\"Age\"].isna() == 0]\n",
    "\n",
    "full_pipeline = ColumnTransformer([\n",
    "    (\"dis\", KBinsDiscretizer(n_bins=3, strategy=\"kmeans\", encode=\"ordinal\"), dis_attribs),\n",
    "    (\"cat\", OneHotEncoder(), cat_attribs),\n",
    "])\n",
    "\n",
    "X = full_pipeline.fit_transform(data_with_age)\n",
    "y = data_with_age[\"Age\"].to_numpy()"
   ]
  },
  {
   "cell_type": "markdown",
   "id": "73ae34c0",
   "metadata": {},
   "source": [
    "Linear Model"
   ]
  },
  {
   "cell_type": "code",
   "execution_count": 81,
   "id": "06fecd98",
   "metadata": {},
   "outputs": [
    {
     "data": {
      "text/plain": [
       "-6.551539993840813e+23"
      ]
     },
     "execution_count": 81,
     "metadata": {},
     "output_type": "execute_result"
    }
   ],
   "source": [
    "from sklearn.linear_model import LinearRegression\n",
    "\n",
    "rgr = LinearRegression()\n",
    "score = cross_val_score(rgr, X, y, cv=5)\n",
    "score.mean()"
   ]
  },
  {
   "cell_type": "code",
   "execution_count": 82,
   "id": "08c054b7",
   "metadata": {},
   "outputs": [
    {
     "name": "stdout",
     "output_type": "stream",
     "text": [
      "best parameters:  {'n_estimators': 100, 'max_leaf_nodes': 11, 'max_depth': 7}\n",
      "best scores:  0.41253172517476155\n"
     ]
    }
   ],
   "source": [
    "from sklearn.model_selection import RandomizedSearchCV\n",
    "from sklearn.ensemble import RandomForestRegressor\n",
    "\n",
    "params = {\n",
    "    'n_estimators': [100, 200, 300, 400, 500],\n",
    "    \"max_depth\": list(range(6, 12)),\n",
    "    # \"max_features\": list(range(5, 25)), # range \\in (0, n_features]\n",
    "    \"max_leaf_nodes\": list(range(10, 35)),\n",
    "}\n",
    "\n",
    "regr = RandomForestRegressor()\n",
    "search = RandomizedSearchCV(\n",
    "    estimator=regr, param_distributions=params,\n",
    "    n_iter=50, cv=5, n_jobs=4,\n",
    ")\n",
    "search.fit(X, y)\n",
    "print('best parameters: ', search.best_params_)\n",
    "print('best scores: ', search.best_score_)"
   ]
  },
  {
   "cell_type": "markdown",
   "id": "2e4f1a6a",
   "metadata": {},
   "source": [
    "Random Forest"
   ]
  },
  {
   "cell_type": "markdown",
   "id": "dfb5f735",
   "metadata": {},
   "source": [
    "It turns out to be quite hard to predict age with other information."
   ]
  },
  {
   "cell_type": "markdown",
   "id": "2dd34052-5759-4f0f-896b-ed3e454113ee",
   "metadata": {
    "jp-MarkdownHeadingCollapsed": true,
    "tags": []
   },
   "source": [
    "# Regressor or Median for missing `Age`?"
   ]
  },
  {
   "cell_type": "markdown",
   "id": "088e0233",
   "metadata": {},
   "source": [
    "## Median"
   ]
  },
  {
   "cell_type": "markdown",
   "id": "cb91339b",
   "metadata": {},
   "source": [
    "Fill na with mean of each group and other with overall mean."
   ]
  },
  {
   "cell_type": "code",
   "execution_count": 538,
   "metadata": {
    "collapsed": false,
    "pycharm": {
     "name": "#%%\n"
    }
   },
   "outputs": [
    {
     "data": {
      "text/plain": [
       "0.8260498399347185"
      ]
     },
     "execution_count": 538,
     "metadata": {},
     "output_type": "execute_result"
    }
   ],
   "source": [
    "from sklearn.utils import shuffle\n",
    "from sklearn.pipeline import Pipeline\n",
    "from sklearn.impute import SimpleImputer\n",
    "from sklearn.preprocessing import OneHotEncoder, StandardScaler\n",
    "from sklearn.compose import ColumnTransformer\n",
    "\n",
    "\n",
    "def get_Title(data: pd.DataFrame):\n",
    "    titles = []\n",
    "    for name in data[\"Name\"].to_list():\n",
    "        last_name = name.split(\",\")[1]\n",
    "        title = last_name.split(\".\")[0]\n",
    "        titles.append(title.replace(\" \", \"\"))\n",
    "    data[\"Title\"] = titles\n",
    "\n",
    "\n",
    "def fill_age(row, age_dict):\n",
    "    if np.isnan(row[\"Age\"]):\n",
    "        row[\"Age\"] = age_dict[row[\"transTitle\"]]\n",
    "    return row\n",
    "\n",
    "\n",
    "def get_features(data: pd.DataFrame):\n",
    "    # get new feature `Title``\n",
    "    get_Title(data)\n",
    "\n",
    "    # get rows with age \n",
    "    age_mask = data[\"Age\"].isnull()\n",
    "    data_with_age = data[age_mask==0]\n",
    "\n",
    "    # count instances of each age group\n",
    "    counter_dict = data_with_age.groupby(\"Title\")[\"Age\"].count().to_dict()\n",
    "    # only keep age group with more than 5 instances and divide the remaining as other\n",
    "    func = lambda x: x if counter_dict[x] > 5 else \"Other\"\n",
    "    # transform Title\n",
    "    data_with_age = data_with_age.assign(transTitle=data_with_age[\"Title\"].apply(func))\n",
    "    data = data.assign(transTitle=data[\"Title\"].apply(func))\n",
    "    # dict storing mean of each age group\n",
    "    age_dict = data_with_age.groupby(\"transTitle\")[\"Age\"].mean().to_dict()\n",
    "    data[\"Age\"] = data.apply(fill_age, axis=1, age_dict=age_dict)[\"Age\"]\n",
    "\n",
    "    data[\"numFM\"] = data[\"SibSp\"] + data[\"Parch\"]\n",
    "    return data\n",
    "\n",
    "num_attribs = [\"Age\", \"Fare\"]\n",
    "cat_attribs = [\"Pclass\", \"Sex\", \"numFM\", \"Embarked\", \"transTitle\"]\n",
    "\n",
    "full_pipeline = ColumnTransformer([\n",
    "    (\"num\", \"passthrough\", num_attribs),\n",
    "    (\"cat\", OneHotEncoder(), cat_attribs),\n",
    "])\n",
    "\n",
    "data = load_train_data()\n",
    "data = get_features(data)\n",
    "data = shuffle(data, random_state=42)\n",
    "data.reset_index(inplace=True, drop=True)\n",
    "\n",
    "X = full_pipeline.fit_transform(data)\n",
    "y = data[\"Survived\"].to_numpy()\n",
    "\n",
    "from sklearn.linear_model import LogisticRegression\n",
    "\n",
    "clf = LogisticRegression(max_iter=1e3)\n",
    "score = cross_val_score(clf, X, y, cv=5)\n",
    "score.mean()"
   ]
  },
  {
   "cell_type": "code",
   "execution_count": 8,
   "id": "41a18442",
   "metadata": {},
   "outputs": [],
   "source": [
    "from sklearn.utils import shuffle\n",
    "from sklearn.pipeline import Pipeline\n",
    "from sklearn.impute import SimpleImputer\n",
    "from sklearn.preprocessing import OneHotEncoder, StandardScaler\n",
    "from sklearn.compose import ColumnTransformer\n",
    "\n",
    "\n",
    "def get_Title(data: pd.DataFrame):\n",
    "    titles = []\n",
    "    for name in data[\"Name\"].to_list():\n",
    "        last_name = name.split(\",\")[1]\n",
    "        title = last_name.split(\".\")[0]\n",
    "        titles.append(title.replace(\" \", \"\"))\n",
    "    data[\"Title\"] = titles\n",
    "    Title_Dict={}\n",
    "    Title_Dict.update(dict.fromkeys(['Capt', 'Col', 'Major', 'Dr', 'Rev'], 'Officer'))\n",
    "    Title_Dict.update(dict.fromkeys(['Don', 'Sir', 'the Countess', 'Dona', 'Lady'], 'Royalty'))\n",
    "    Title_Dict.update(dict.fromkeys(['Mme', 'Ms', 'Mrs'], 'Mrs'))\n",
    "    Title_Dict.update(dict.fromkeys(['Mlle', 'Miss'], 'Miss'))\n",
    "    Title_Dict.update(dict.fromkeys(['Mr'], 'Mr'))\n",
    "    Title_Dict.update(dict.fromkeys(['Master','Jonkheer'], 'Master'))\n",
    "    data[\"Title\"] = data[\"Title\"].map(Title_Dict)\n",
    "\n",
    "\n",
    "def fill_age_regr(row, age_dict):\n",
    "    if np.isnan(row[\"Age\"]):\n",
    "        row[\"Age\"] = age_dict[row[\"transTitle\"]]\n",
    "    return row\n",
    "\n",
    "\n",
    "def get_features(data: pd.DataFrame):\n",
    "    # get new feature `Title``\n",
    "    get_Title(data)\n",
    "    # get new feature `numFM`\n",
    "    data[\"numFM\"] = data[\"SibSp\"] + data[\"Parch\"]\n",
    "\n",
    "    # get rows with age \n",
    "    nan_mask = data[\"Age\"].isnull()\n",
    "    data_with_age = data[nan_mask==0]\n",
    "    \n",
    "    num_attribs = [\"Fare\"]\n",
    "    cat_attribs = [\"Pclass\", \"Sex\", \"numFM\", \"Embarked\", \"Title\"]\n",
    "\n",
    "    pipeline = ColumnTransformer([\n",
    "        (\"num\", \"passthrough\", num_attribs),\n",
    "        (\"cat\", OneHotEncoder(), cat_attribs),\n",
    "    ])\n",
    "    \n",
    "    X = pipeline.fit_transform(data)\n",
    "    y = data_with_age[\"Age\"].to_numpy()\n",
    "\n",
    "    return X[nan_mask==0], X[nan_mask==1], y\n",
    "    \n",
    "\n",
    "data = load_train_data()\n",
    "X_train, X_test, y_train = get_features(data)"
   ]
  },
  {
   "cell_type": "code",
   "execution_count": 10,
   "id": "29718f14",
   "metadata": {},
   "outputs": [
    {
     "data": {
      "text/plain": [
       "0.3989525377959512"
      ]
     },
     "execution_count": 10,
     "metadata": {},
     "output_type": "execute_result"
    }
   ],
   "source": [
    "from sklearn.linear_model import LinearRegression\n",
    "\n",
    "regr = LinearRegression()\n",
    "score = cross_val_score(regr, X_train, y_train, cv=5)\n",
    "score.mean()"
   ]
  },
  {
   "cell_type": "code",
   "execution_count": 12,
   "id": "979ddda5",
   "metadata": {},
   "outputs": [
    {
     "name": "stdout",
     "output_type": "stream",
     "text": [
      "Fitting 5 folds for each of 50 candidates, totalling 250 fits\n",
      "best parameters:  {'n_estimators': 500, 'max_leaf_nodes': 10, 'max_depth': 8}\n",
      "best scores:  0.4101256016531359\n"
     ]
    }
   ],
   "source": [
    "from sklearn.model_selection import RandomizedSearchCV\n",
    "from sklearn.ensemble import RandomForestRegressor\n",
    "\n",
    "params = {\n",
    "    'n_estimators': [100, 200, 300, 400, 500],\n",
    "    \"max_depth\": list(range(6, 12)),\n",
    "    \"max_leaf_nodes\": list(range(10, 35)),\n",
    "}\n",
    "\n",
    "regr = RandomForestRegressor()\n",
    "search = RandomizedSearchCV(\n",
    "    estimator=regr, param_distributions=params,\n",
    "    n_iter=50, cv=5, n_jobs=4, verbose=1,\n",
    ")\n",
    "search.fit(X_train, y_train)\n",
    "print('best parameters: ', search.best_params_)\n",
    "print('best scores: ', search.best_score_)"
   ]
  },
  {
   "cell_type": "code",
   "execution_count": null,
   "id": "ef2862bd",
   "metadata": {},
   "outputs": [],
   "source": [
    "\n",
    "num_attribs = [\"Age\", \"Fare\"]\n",
    "cat_attribs = [\"Pclass\", \"Sex\", \"numFM\", \"Embarked\", \"transTitle\"]\n",
    "\n",
    "full_pipeline = ColumnTransformer([\n",
    "    (\"num\", \"passthrough\", num_attribs),\n",
    "    (\"cat\", OneHotEncoder(), cat_attribs),\n",
    "])\n",
    "\n",
    "data = load_train_data()\n",
    "data = get_features(data)\n",
    "data = shuffle(data, random_state=42)\n",
    "data.reset_index(inplace=True, drop=True)\n",
    "\n",
    "X = full_pipeline.fit_transform(data)\n",
    "y = data[\"Survived\"].to_numpy()\n",
    "\n",
    "from sklearn.linear_model import LogisticRegression\n",
    "\n",
    "clf = LogisticRegression(max_iter=1e3)\n",
    "score = cross_val_score(clf, X, y, cv=5)\n",
    "score.mean()"
   ]
  },
  {
   "cell_type": "markdown",
   "id": "845375e1",
   "metadata": {},
   "source": [
    "## Regressor"
   ]
  },
  {
   "cell_type": "code",
   "execution_count": 541,
   "id": "3c604af2",
   "metadata": {},
   "outputs": [],
   "source": [
    "from sklearn.utils import shuffle\n",
    "from sklearn.pipeline import Pipeline\n",
    "from sklearn.impute import SimpleImputer\n",
    "from sklearn.preprocessing import OneHotEncoder, StandardScaler\n",
    "from sklearn.compose import ColumnTransformer\n",
    "from sklearn.linear_model import LinearRegression\n",
    "\n",
    "\n",
    "def get_Title(data: pd.DataFrame):\n",
    "    titles = []\n",
    "    for name in data[\"Name\"].to_list():\n",
    "        last_name = name.split(\",\")[1]\n",
    "        title = last_name.split(\".\")[0]\n",
    "        titles.append(title.replace(\" \", \"\"))\n",
    "    data[\"Title\"] = titles\n",
    "    return data\n",
    "\n",
    "\n",
    "def prepare_regressor_data(data: pd.DataFrame):\n",
    "    # get new feature `numFM`\n",
    "    data[\"numFM\"] = data[\"SibSp\"] + data[\"Parch\"]\n",
    "    # get new feature `Title``\n",
    "    get_Title(data)\n",
    "\n",
    "    # get rows with age \n",
    "    nan_mask = data[\"Age\"].isnull()\n",
    "    data_with_age = data[nan_mask==0]\n",
    "\n",
    "    # count instances of each age group\n",
    "    counter_dict = data_with_age.groupby(\"Title\")[\"Age\"].count().to_dict()\n",
    "    # only keep age group with more than 5 instances and divide the remaining as other\n",
    "    func = lambda x: x if counter_dict[x] > 5 else \"Other\"\n",
    "    # transform Title\n",
    "    data_with_age = data_with_age.assign(transTitle=data_with_age[\"Title\"].apply(func))\n",
    "    data = data.assign(transTitle=data[\"Title\"].apply(func))\n",
    "\n",
    "    num_attribs = [\"Fare\"]\n",
    "    cat_attribs = [\"Pclass\", \"Sex\", \"numFM\", \"Embarked\", \"transTitle\"]\n",
    "\n",
    "    pipeline = ColumnTransformer([\n",
    "        (\"num\", \"passthrough\", num_attribs),\n",
    "        (\"cat\", OneHotEncoder(), cat_attribs),\n",
    "    ])\n",
    "    \n",
    "    X = pipeline.fit_transform(data)\n",
    "    y = data_with_age[\"Age\"].to_numpy()\n",
    "\n",
    "    return X[nan_mask==0], X[nan_mask==1], y\n",
    "\n",
    "data = load_train_data()\n",
    "X_train, X_test, y_train = prepare_regressor_data(data)"
   ]
  },
  {
   "cell_type": "code",
   "execution_count": 542,
   "id": "4181abf6",
   "metadata": {},
   "outputs": [
    {
     "data": {
      "text/plain": [
       "0.3975771006852229"
      ]
     },
     "execution_count": 542,
     "metadata": {},
     "output_type": "execute_result"
    }
   ],
   "source": [
    "reg = LinearRegression()\n",
    "score = cross_val_score(reg, X_train, y_train, cv=5)\n",
    "score.mean()"
   ]
  },
  {
   "cell_type": "code",
   "execution_count": 543,
   "id": "0bb3209d",
   "metadata": {},
   "outputs": [
    {
     "name": "stdout",
     "output_type": "stream",
     "text": [
      "Fitting 5 folds for each of 50 candidates, totalling 250 fits\n",
      "best parameters:  {'n_estimators': 300, 'max_leaf_nodes': 10, 'max_depth': 9}\n",
      "best scores:  0.4094451928563537\n"
     ]
    }
   ],
   "source": [
    "from sklearn.model_selection import RandomizedSearchCV\n",
    "from sklearn.ensemble import RandomForestRegressor\n",
    "\n",
    "params = {\n",
    "    'n_estimators': [100, 200, 300, 400, 500],\n",
    "    \"max_depth\": list(range(6, 12)),\n",
    "    # \"max_features\": list(range(5, 25)), # range \\in (0, n_features]\n",
    "    \"max_leaf_nodes\": list(range(10, 35)),\n",
    "}\n",
    "\n",
    "regr = RandomForestRegressor()\n",
    "search = RandomizedSearchCV(\n",
    "    estimator=regr, param_distributions=params,\n",
    "    n_iter=50, cv=5, n_jobs=4, verbose=1,\n",
    ")\n",
    "search.fit(X_train, y_train)\n",
    "print('best parameters: ', search.best_params_)\n",
    "print('best scores: ', search.best_score_)"
   ]
  },
  {
   "cell_type": "code",
   "execution_count": 559,
   "id": "13903675",
   "metadata": {},
   "outputs": [
    {
     "name": "stdout",
     "output_type": "stream",
     "text": [
      "Fit score of linear age regressor: 0.483\n"
     ]
    },
    {
     "data": {
      "text/plain": [
       "0.8282907538760907"
      ]
     },
     "execution_count": 559,
     "metadata": {},
     "output_type": "execute_result"
    }
   ],
   "source": [
    "def fill_age_reg(row, reg, pipeline):\n",
    "    if np.isnan(row[\"Age\"]):\n",
    "        # X = pipeline.fit_transform(row)\n",
    "        print(row)\n",
    "        # row[\"Age\"] = reg.predict(X)\n",
    "    return row\n",
    "    \n",
    "\n",
    "def get_features(data: pd.DataFrame):\n",
    "    # get new feature `numFM`\n",
    "    data[\"numFM\"] = data[\"SibSp\"] + data[\"Parch\"]\n",
    "    # get new feature `Title``\n",
    "    get_Title(data)\n",
    "\n",
    "    # get rows with age \n",
    "    nan_mask = data[\"Age\"].isnull()\n",
    "    data_with_age = data[nan_mask==0]\n",
    "\n",
    "    # count instances of each age group\n",
    "    counter_dict = data_with_age.groupby(\"Title\")[\"Age\"].count().to_dict()\n",
    "    # only keep age group with more than 5 instances and divide the remaining as other\n",
    "    func = lambda x: x if counter_dict[x] > 5 else \"Other\"\n",
    "    # transform Title\n",
    "    data_with_age = data_with_age.assign(transTitle=data_with_age[\"Title\"].apply(func))\n",
    "    data = data.assign(transTitle=data[\"Title\"].apply(func))\n",
    "\n",
    "    num_attribs = [\"Fare\"]\n",
    "    cat_attribs = [\"Pclass\", \"Sex\", \"numFM\", \"Embarked\", \"transTitle\"]\n",
    "\n",
    "    pipeline = ColumnTransformer([\n",
    "        (\"num\", \"passthrough\", num_attribs),\n",
    "        (\"cat\", OneHotEncoder(), cat_attribs),\n",
    "    ])\n",
    "    \n",
    "    X = pipeline.fit_transform(data)\n",
    "    y = data_with_age[\"Age\"].to_numpy()\n",
    "\n",
    "    reg = RandomForestRegressor(\n",
    "        n_estimators=300,\n",
    "        max_leaf_nodes=12,\n",
    "        max_depth=10,\n",
    "    ).fit(X[nan_mask==0], y)\n",
    "    print(f\"Fit score of linear age regressor: {reg.score(X[nan_mask==0], y):.3f}\")\n",
    "    pred_age = pd.Series(\n",
    "        data=reg.predict(X[nan_mask==1]),\n",
    "        index=nan_mask[nan_mask].index\n",
    "    )\n",
    "    data[\"Age\"].fillna(pred_age, inplace=True)\n",
    "    return data\n",
    "\n",
    "num_attribs = [\"Fare\", \"Age\"]\n",
    "cat_attribs = [\"Pclass\", \"Sex\", \"numFM\", \"Embarked\", \"transTitle\"]\n",
    "\n",
    "full_pipeline = ColumnTransformer([\n",
    "    (\"num\", \"passthrough\", num_attribs),\n",
    "    (\"cat\", OneHotEncoder(), cat_attribs),\n",
    "])\n",
    "\n",
    "data = load_train_data()\n",
    "data = get_features(data)\n",
    "data = shuffle(data, random_state=42)\n",
    "data.reset_index(inplace=True, drop=True)\n",
    "\n",
    "X = full_pipeline.fit_transform(data)\n",
    "y = data[\"Survived\"].to_numpy()\n",
    "\n",
    "reg = LogisticRegression(max_iter=1000)\n",
    "score = cross_val_score(reg, X, y, cv=5)\n",
    "score.mean()"
   ]
  },
  {
   "cell_type": "code",
   "execution_count": 560,
   "id": "8ba43bdc",
   "metadata": {},
   "outputs": [
    {
     "data": {
      "text/plain": [
       "(891, 27)"
      ]
     },
     "execution_count": 560,
     "metadata": {},
     "output_type": "execute_result"
    }
   ],
   "source": [
    "X.shape"
   ]
  },
  {
   "cell_type": "code",
   "execution_count": 562,
   "id": "998df9e8",
   "metadata": {},
   "outputs": [
    {
     "name": "stdout",
     "output_type": "stream",
     "text": [
      "Fitting 5 folds for each of 50 candidates, totalling 250 fits\n",
      "best parameters:  {'n_estimators': 200, 'max_leaf_nodes': 18, 'max_depth': 10}\n",
      "best scores:  0.8316427091833531\n"
     ]
    }
   ],
   "source": [
    "from sklearn.model_selection import RandomizedSearchCV\n",
    "from sklearn.ensemble import RandomForestClassifier\n",
    "\n",
    "params = {\n",
    "    'n_estimators': [100, 200, 300, 400, 500],\n",
    "    \"max_depth\": list(range(6, 12)),\n",
    "    \"max_leaf_nodes\": list(range(10, 35)),\n",
    "}\n",
    "\n",
    "clf = RandomForestClassifier()\n",
    "search = RandomizedSearchCV(\n",
    "    estimator=clf, param_distributions=params,\n",
    "    n_iter=50, cv=5, n_jobs=4, verbose=1,\n",
    ")\n",
    "search.fit(X, y)\n",
    "print('best parameters: ', search.best_params_)\n",
    "print('best scores: ', search.best_score_)"
   ]
  },
  {
   "cell_type": "markdown",
   "metadata": {
    "collapsed": false,
    "pycharm": {
     "name": "#%% md\n"
    }
   },
   "source": [
    "## Logistic Regression (80.8%)"
   ]
  },
  {
   "cell_type": "code",
   "execution_count": 176,
   "id": "2f04aed9-99d2-414a-a0ca-ce6cd3ec73d9",
   "metadata": {},
   "outputs": [
    {
     "name": "stdout",
     "output_type": "stream",
     "text": [
      "accuracy: 0.808\n"
     ]
    },
    {
     "data": {
      "image/png": "[encoded data removed]",
      "text/plain": [
       "<Figure size 1440x360 with 3 Axes>"
      ]
     },
     "metadata": {
      "needs_background": "light"
     },
     "output_type": "display_data"
    }
   ],
   "source": [
    "from sklearn.linear_model import LogisticRegression\n",
    "\n",
    "data = load_train_data()\n",
    "\n",
    "title = \"Learning Curve (Logistic Regression)\"\n",
    "clf = LogisticRegression(random_state=42)\n",
    "\n",
    "cv = ShuffleSplit(n_splits=50, test_size=0.2, random_state=42)\n",
    "utils.plot.plot_learning_curve(\n",
    "    clf, title, X, y, ylim=(0.75, 0.9), cv=cv, n_jobs=4\n",
    ")\n",
    "\n",
    "score = cross_val_score(clf, X, y, scoring='accuracy', cv=5)\n",
    "print('accuracy: %.3f'%score.mean())\n",
    "plt.show()"
   ]
  },
  {
   "cell_type": "markdown",
   "id": "90f5b5a2-c5fe-4194-9927-539d9b2b7f22",
   "metadata": {
    "tags": []
   },
   "source": [
    "## Decision Tree (83.2%)"
   ]
  },
  {
   "cell_type": "code",
   "execution_count": 6,
   "id": "c6af776d-5585-49d6-beae-d7bf895e3c40",
   "metadata": {},
   "outputs": [
    {
     "name": "stdout",
     "output_type": "stream",
     "text": [
      "accuracy: 0.785\n"
     ]
    },
    {
     "data": {
      "image/png": "[encoded data removed]",
      "text/plain": [
       "<Figure size 1440x360 with 3 Axes>"
      ]
     },
     "metadata": {
      "needs_background": "light"
     },
     "output_type": "display_data"
    }
   ],
   "source": [
    "from sklearn import tree\n",
    "\n",
    "tree_clf = tree.DecisionTreeClassifier()\n",
    "\n",
    "title = \"Learning Curve(Decision Tree)\"\n",
    "cv = ShuffleSplit(n_splits=50, test_size=0.2, random_state=42)\n",
    "utils.plot.plot_learning_curve(\n",
    "    tree_clf, title, X, y, ylim=(0.7, 1.1), cv=cv, n_jobs=4\n",
    ")\n",
    "score = cross_val_score(tree_clf, X, y, scoring='accuracy', cv=5)\n",
    "print('accuracy: %.3f'%score.mean())\n",
    "plt.show()"
   ]
  },
  {
   "cell_type": "markdown",
   "id": "a0ca66cb-9017-4ae3-ae51-ad60ab55b719",
   "metadata": {},
   "source": [
    "strongly over fitted!"
   ]
  },
  {
   "cell_type": "markdown",
   "metadata": {
    "collapsed": false,
    "pycharm": {
     "name": "#%% md\n"
    }
   },
   "source": [
    "### GridSearch"
   ]
  },
  {
   "cell_type": "code",
   "execution_count": 50,
   "metadata": {
    "collapsed": false,
    "pycharm": {
     "name": "#%%\n"
    }
   },
   "outputs": [
    {
     "data": {
      "text/plain": [
       "(891, 25)"
      ]
     },
     "execution_count": 50,
     "metadata": {},
     "output_type": "execute_result"
    }
   ],
   "source": [
    "X.shape"
   ]
  },
  {
   "cell_type": "code",
   "execution_count": 7,
   "metadata": {
    "collapsed": false,
    "pycharm": {
     "name": "#%%\n"
    }
   },
   "outputs": [
    {
     "name": "stdout",
     "output_type": "stream",
     "text": [
      "Fitting 5 folds for each of 5520 candidates, totalling 27600 fits\n",
      "best parameters:  {'criterion': 'gini', 'max_depth': 7, 'max_features': 13, 'max_leaf_nodes': 23}\n"
     ]
    }
   ],
   "source": [
    "from sklearn.model_selection import GridSearchCV\n",
    "\n",
    "grid = {\n",
    "    \"max_depth\": list(range(5, 10)),\n",
    "    \"max_features\": list(range(1, 25)), # range \\in (0, n_features]\n",
    "    \"max_leaf_nodes\": list(range(2, 25)),\n",
    "    \"criterion\": ['gini', 'entropy'],\n",
    "}\n",
    "\n",
    "clf = tree.DecisionTreeClassifier()\n",
    "search = GridSearchCV(\n",
    "    estimator=clf, param_grid = grid,\n",
    "    cv=5, verbose=2, n_jobs = 4\n",
    "    )\n",
    "search.fit(X, y)\n",
    "print('best parameters: ', search.best_params_)"
   ]
  },
  {
   "cell_type": "code",
   "execution_count": 8,
   "metadata": {
    "collapsed": false,
    "pycharm": {
     "name": "#%%\n"
    }
   },
   "outputs": [
    {
     "data": {
      "text/plain": [
       "0.831648986253217"
      ]
     },
     "execution_count": 8,
     "metadata": {},
     "output_type": "execute_result"
    }
   ],
   "source": [
    "search.best_score_"
   ]
  },
  {
   "cell_type": "markdown",
   "metadata": {
    "collapsed": false,
    "pycharm": {
     "name": "#%% md\n"
    }
   },
   "source": [
    "## SVM (82.8%)"
   ]
  },
  {
   "cell_type": "markdown",
   "metadata": {
    "collapsed": false,
    "pycharm": {
     "name": "#%% md\n"
    }
   },
   "source": [
    "`scipy.stats.expon(scale)`=$pdf=scale\\cdot e^{-scale\\cdot x}$"
   ]
  },
  {
   "cell_type": "code",
   "execution_count": 36,
   "metadata": {
    "collapsed": false,
    "pycharm": {
     "name": "#%%\n"
    }
   },
   "outputs": [
    {
     "name": "stdout",
     "output_type": "stream",
     "text": [
      "best parameters:  {'C': 1.5813176556296222, 'gamma': 0.08589955934294802, 'kernel': 'rbf'}\n",
      "best scores:  0.817048521750047\n"
     ]
    }
   ],
   "source": [
    "import scipy\n",
    "from sklearn.svm import SVC\n",
    "from sklearn.model_selection import RandomizedSearchCV\n",
    "params = {\n",
    "    'C': scipy.stats.expon(scale=100),\n",
    "    'gamma': scipy.stats.expon(scale=.1),\n",
    "    'kernel': ['rbf'],\n",
    "}\n",
    "clf = SVC()\n",
    "search = RandomizedSearchCV(\n",
    "    estimator=clf, param_distributions=params,\n",
    "    n_iter=100, cv=5\n",
    ")\n",
    "search.fit(X, y)\n",
    "print('best parameters: ', search.best_params_)\n",
    "print('best scores: ', search.best_score_)"
   ]
  },
  {
   "cell_type": "markdown",
   "metadata": {
    "collapsed": false,
    "pycharm": {
     "name": "#%% md\n"
    }
   },
   "source": [
    "## Random Forest (83.7%)"
   ]
  },
  {
   "cell_type": "code",
   "execution_count": 18,
   "metadata": {
    "collapsed": false,
    "pycharm": {
     "name": "#%%\n"
    }
   },
   "outputs": [
    {
     "name": "stdout",
     "output_type": "stream",
     "text": [
      "Fitting 5 folds for each of 50 candidates, totalling 250 fits\n",
      "best parameters:  {'n_estimators': 400, 'max_leaf_nodes': 29, 'max_features': 23, 'max_depth': 8}\n",
      "best scores:  0.8373046262004896\n"
     ]
    }
   ],
   "source": [
    "from sklearn.model_selection import RandomizedSearchCV\n",
    "from sklearn.ensemble import RandomForestClassifier\n",
    "\n",
    "params = {\n",
    "    'n_estimators': [100, 200, 300, 400, 500],\n",
    "    \"max_depth\": list(range(6, 12)),\n",
    "    \"max_features\": list(range(5, 25)), # range \\in (0, n_features]\n",
    "    \"max_leaf_nodes\": list(range(10, 35)),\n",
    "}\n",
    "\n",
    "clf = RandomForestClassifier()\n",
    "search = RandomizedSearchCV(\n",
    "    estimator=clf, param_distributions=params,\n",
    "    n_iter=50, cv=5, n_jobs=4, verbose=1,\n",
    ")\n",
    "search.fit(X, y)\n",
    "print('best parameters: ', search.best_params_)\n",
    "print('best scores: ', search.best_score_)"
   ]
  },
  {
   "cell_type": "markdown",
   "metadata": {
    "collapsed": false,
    "pycharm": {
     "name": "#%% md\n"
    }
   },
   "source": [
    "## Error analysis"
   ]
  },
  {
   "cell_type": "code",
   "execution_count": null,
   "metadata": {
    "collapsed": false,
    "pycharm": {
     "name": "#%%\n"
    }
   },
   "outputs": [],
   "source": [
    "from sklearn.model_selection import cross_val_predict"
   ]
  },
  {
   "cell_type": "code",
   "execution_count": 35,
   "metadata": {
    "collapsed": false,
    "pycharm": {
     "name": "#%%\n"
    }
   },
   "outputs": [
    {
     "data": {
      "text/html": [
       "<div>\n",
       "<style scoped>\n",
       "    .dataframe tbody tr th:only-of-type {\n",
       "        vertical-align: middle;\n",
       "    }\n",
       "\n",
       "    .dataframe tbody tr th {\n",
       "        vertical-align: top;\n",
       "    }\n",
       "\n",
       "    .dataframe thead th {\n",
       "        text-align: right;\n",
       "    }\n",
       "</style>\n",
       "<table border=\"1\" class=\"dataframe\">\n",
       "  <thead>\n",
       "    <tr style=\"text-align: right;\">\n",
       "      <th></th>\n",
       "      <th>PassengerId</th>\n",
       "      <th>Survived</th>\n",
       "      <th>Pclass</th>\n",
       "      <th>Name</th>\n",
       "      <th>Sex</th>\n",
       "      <th>Age</th>\n",
       "      <th>SibSp</th>\n",
       "      <th>Parch</th>\n",
       "      <th>Ticket</th>\n",
       "      <th>Fare</th>\n",
       "      <th>Cabin</th>\n",
       "      <th>Embarked</th>\n",
       "    </tr>\n",
       "  </thead>\n",
       "  <tbody>\n",
       "    <tr>\n",
       "      <th>4</th>\n",
       "      <td>188</td>\n",
       "      <td>1</td>\n",
       "      <td>1</td>\n",
       "      <td>Romaine, Mr. Charles Hallace (\"Mr C Rolmane\")</td>\n",
       "      <td>male</td>\n",
       "      <td>45.0</td>\n",
       "      <td>0</td>\n",
       "      <td>0</td>\n",
       "      <td>111428</td>\n",
       "      <td>26.5500</td>\n",
       "      <td>NaN</td>\n",
       "      <td>S</td>\n",
       "    </tr>\n",
       "    <tr>\n",
       "      <th>9</th>\n",
       "      <td>403</td>\n",
       "      <td>0</td>\n",
       "      <td>3</td>\n",
       "      <td>Jussila, Miss. Mari Aina</td>\n",
       "      <td>female</td>\n",
       "      <td>21.0</td>\n",
       "      <td>1</td>\n",
       "      <td>0</td>\n",
       "      <td>4137</td>\n",
       "      <td>9.8250</td>\n",
       "      <td>NaN</td>\n",
       "      <td>S</td>\n",
       "    </tr>\n",
       "    <tr>\n",
       "      <th>15</th>\n",
       "      <td>42</td>\n",
       "      <td>0</td>\n",
       "      <td>2</td>\n",
       "      <td>Turpin, Mrs. William John Robert (Dorothy Ann ...</td>\n",
       "      <td>female</td>\n",
       "      <td>27.0</td>\n",
       "      <td>1</td>\n",
       "      <td>0</td>\n",
       "      <td>11668</td>\n",
       "      <td>21.0000</td>\n",
       "      <td>NaN</td>\n",
       "      <td>S</td>\n",
       "    </tr>\n",
       "    <tr>\n",
       "      <th>17</th>\n",
       "      <td>702</td>\n",
       "      <td>1</td>\n",
       "      <td>1</td>\n",
       "      <td>Silverthorne, Mr. Spencer Victor</td>\n",
       "      <td>male</td>\n",
       "      <td>35.0</td>\n",
       "      <td>0</td>\n",
       "      <td>0</td>\n",
       "      <td>PC 17475</td>\n",
       "      <td>26.2875</td>\n",
       "      <td>E24</td>\n",
       "      <td>S</td>\n",
       "    </tr>\n",
       "    <tr>\n",
       "      <th>21</th>\n",
       "      <td>166</td>\n",
       "      <td>1</td>\n",
       "      <td>3</td>\n",
       "      <td>Goldsmith, Master. Frank John William \"Frankie\"</td>\n",
       "      <td>male</td>\n",
       "      <td>9.0</td>\n",
       "      <td>0</td>\n",
       "      <td>2</td>\n",
       "      <td>363291</td>\n",
       "      <td>20.5250</td>\n",
       "      <td>NaN</td>\n",
       "      <td>S</td>\n",
       "    </tr>\n",
       "    <tr>\n",
       "      <th>...</th>\n",
       "      <td>...</td>\n",
       "      <td>...</td>\n",
       "      <td>...</td>\n",
       "      <td>...</td>\n",
       "      <td>...</td>\n",
       "      <td>...</td>\n",
       "      <td>...</td>\n",
       "      <td>...</td>\n",
       "      <td>...</td>\n",
       "      <td>...</td>\n",
       "      <td>...</td>\n",
       "      <td>...</td>\n",
       "    </tr>\n",
       "    <tr>\n",
       "      <th>861</th>\n",
       "      <td>82</td>\n",
       "      <td>1</td>\n",
       "      <td>3</td>\n",
       "      <td>Sheerlinck, Mr. Jan Baptist</td>\n",
       "      <td>male</td>\n",
       "      <td>29.0</td>\n",
       "      <td>0</td>\n",
       "      <td>0</td>\n",
       "      <td>345779</td>\n",
       "      <td>9.5000</td>\n",
       "      <td>NaN</td>\n",
       "      <td>S</td>\n",
       "    </tr>\n",
       "    <tr>\n",
       "      <th>864</th>\n",
       "      <td>580</td>\n",
       "      <td>1</td>\n",
       "      <td>3</td>\n",
       "      <td>Jussila, Mr. Eiriik</td>\n",
       "      <td>male</td>\n",
       "      <td>32.0</td>\n",
       "      <td>0</td>\n",
       "      <td>0</td>\n",
       "      <td>STON/O 2. 3101286</td>\n",
       "      <td>7.9250</td>\n",
       "      <td>NaN</td>\n",
       "      <td>S</td>\n",
       "    </tr>\n",
       "    <tr>\n",
       "      <th>876</th>\n",
       "      <td>227</td>\n",
       "      <td>1</td>\n",
       "      <td>2</td>\n",
       "      <td>Mellors, Mr. William John</td>\n",
       "      <td>male</td>\n",
       "      <td>19.0</td>\n",
       "      <td>0</td>\n",
       "      <td>0</td>\n",
       "      <td>SW/PP 751</td>\n",
       "      <td>10.5000</td>\n",
       "      <td>NaN</td>\n",
       "      <td>S</td>\n",
       "    </tr>\n",
       "    <tr>\n",
       "      <th>884</th>\n",
       "      <td>147</td>\n",
       "      <td>1</td>\n",
       "      <td>3</td>\n",
       "      <td>Andersson, Mr. August Edvard (\"Wennerstrom\")</td>\n",
       "      <td>male</td>\n",
       "      <td>27.0</td>\n",
       "      <td>0</td>\n",
       "      <td>0</td>\n",
       "      <td>350043</td>\n",
       "      <td>7.7958</td>\n",
       "      <td>NaN</td>\n",
       "      <td>S</td>\n",
       "    </tr>\n",
       "    <tr>\n",
       "      <th>889</th>\n",
       "      <td>889</td>\n",
       "      <td>0</td>\n",
       "      <td>3</td>\n",
       "      <td>Johnston, Miss. Catherine Helen \"Carrie\"</td>\n",
       "      <td>female</td>\n",
       "      <td>NaN</td>\n",
       "      <td>1</td>\n",
       "      <td>2</td>\n",
       "      <td>W./C. 6607</td>\n",
       "      <td>23.4500</td>\n",
       "      <td>NaN</td>\n",
       "      <td>S</td>\n",
       "    </tr>\n",
       "  </tbody>\n",
       "</table>\n",
       "<p>169 rows × 12 columns</p>\n",
       "</div>"
      ],
      "text/plain": [
       "     PassengerId  Survived  Pclass  \\\n",
       "4            188         1       1   \n",
       "9            403         0       3   \n",
       "15            42         0       2   \n",
       "17           702         1       1   \n",
       "21           166         1       3   \n",
       "..           ...       ...     ...   \n",
       "861           82         1       3   \n",
       "864          580         1       3   \n",
       "876          227         1       2   \n",
       "884          147         1       3   \n",
       "889          889         0       3   \n",
       "\n",
       "                                                  Name     Sex   Age  SibSp  \\\n",
       "4        Romaine, Mr. Charles Hallace (\"Mr C Rolmane\")    male  45.0      0   \n",
       "9                             Jussila, Miss. Mari Aina  female  21.0      1   \n",
       "15   Turpin, Mrs. William John Robert (Dorothy Ann ...  female  27.0      1   \n",
       "17                    Silverthorne, Mr. Spencer Victor    male  35.0      0   \n",
       "21     Goldsmith, Master. Frank John William \"Frankie\"    male   9.0      0   \n",
       "..                                                 ...     ...   ...    ...   \n",
       "861                        Sheerlinck, Mr. Jan Baptist    male  29.0      0   \n",
       "864                                Jussila, Mr. Eiriik    male  32.0      0   \n",
       "876                          Mellors, Mr. William John    male  19.0      0   \n",
       "884       Andersson, Mr. August Edvard (\"Wennerstrom\")    male  27.0      0   \n",
       "889           Johnston, Miss. Catherine Helen \"Carrie\"  female   NaN      1   \n",
       "\n",
       "     Parch             Ticket     Fare Cabin Embarked  \n",
       "4        0             111428  26.5500   NaN        S  \n",
       "9        0               4137   9.8250   NaN        S  \n",
       "15       0              11668  21.0000   NaN        S  \n",
       "17       0           PC 17475  26.2875   E24        S  \n",
       "21       2             363291  20.5250   NaN        S  \n",
       "..     ...                ...      ...   ...      ...  \n",
       "861      0             345779   9.5000   NaN        S  \n",
       "864      0  STON/O 2. 3101286   7.9250   NaN        S  \n",
       "876      0          SW/PP 751  10.5000   NaN        S  \n",
       "884      0             350043   7.7958   NaN        S  \n",
       "889      2         W./C. 6607  23.4500   NaN        S  \n",
       "\n",
       "[169 rows x 12 columns]"
      ]
     },
     "execution_count": 35,
     "metadata": {},
     "output_type": "execute_result"
    }
   ],
   "source": [
    "params = {'criterion': 'gini', 'max_depth': 7, 'max_features': 13, 'max_leaf_nodes': 23}\n",
    "best_tree_clf = tree.DecisionTreeClassifier(**params)\n",
    "y_pred = cross_val_predict(best_tree_clf, X, y, cv=5)\n",
    "\n",
    "errors_tree = data[y_pred != y]\n",
    "errors_tree"
   ]
  },
  {
   "cell_type": "code",
   "execution_count": 37,
   "metadata": {
    "collapsed": false,
    "pycharm": {
     "name": "#%%\n"
    }
   },
   "outputs": [
    {
     "data": {
      "text/html": [
       "<div>\n",
       "<style scoped>\n",
       "    .dataframe tbody tr th:only-of-type {\n",
       "        vertical-align: middle;\n",
       "    }\n",
       "\n",
       "    .dataframe tbody tr th {\n",
       "        vertical-align: top;\n",
       "    }\n",
       "\n",
       "    .dataframe thead th {\n",
       "        text-align: right;\n",
       "    }\n",
       "</style>\n",
       "<table border=\"1\" class=\"dataframe\">\n",
       "  <thead>\n",
       "    <tr style=\"text-align: right;\">\n",
       "      <th></th>\n",
       "      <th>PassengerId</th>\n",
       "      <th>Survived</th>\n",
       "      <th>Pclass</th>\n",
       "      <th>Name</th>\n",
       "      <th>Sex</th>\n",
       "      <th>Age</th>\n",
       "      <th>SibSp</th>\n",
       "      <th>Parch</th>\n",
       "      <th>Ticket</th>\n",
       "      <th>Fare</th>\n",
       "      <th>Cabin</th>\n",
       "      <th>Embarked</th>\n",
       "    </tr>\n",
       "  </thead>\n",
       "  <tbody>\n",
       "    <tr>\n",
       "      <th>1</th>\n",
       "      <td>363</td>\n",
       "      <td>0</td>\n",
       "      <td>3</td>\n",
       "      <td>Barbara, Mrs. (Catherine David)</td>\n",
       "      <td>female</td>\n",
       "      <td>45.0</td>\n",
       "      <td>0</td>\n",
       "      <td>1</td>\n",
       "      <td>2691</td>\n",
       "      <td>14.4542</td>\n",
       "      <td>NaN</td>\n",
       "      <td>C</td>\n",
       "    </tr>\n",
       "    <tr>\n",
       "      <th>4</th>\n",
       "      <td>188</td>\n",
       "      <td>1</td>\n",
       "      <td>1</td>\n",
       "      <td>Romaine, Mr. Charles Hallace (\"Mr C Rolmane\")</td>\n",
       "      <td>male</td>\n",
       "      <td>45.0</td>\n",
       "      <td>0</td>\n",
       "      <td>0</td>\n",
       "      <td>111428</td>\n",
       "      <td>26.5500</td>\n",
       "      <td>NaN</td>\n",
       "      <td>S</td>\n",
       "    </tr>\n",
       "    <tr>\n",
       "      <th>15</th>\n",
       "      <td>42</td>\n",
       "      <td>0</td>\n",
       "      <td>2</td>\n",
       "      <td>Turpin, Mrs. William John Robert (Dorothy Ann ...</td>\n",
       "      <td>female</td>\n",
       "      <td>27.0</td>\n",
       "      <td>1</td>\n",
       "      <td>0</td>\n",
       "      <td>11668</td>\n",
       "      <td>21.0000</td>\n",
       "      <td>NaN</td>\n",
       "      <td>S</td>\n",
       "    </tr>\n",
       "    <tr>\n",
       "      <th>17</th>\n",
       "      <td>702</td>\n",
       "      <td>1</td>\n",
       "      <td>1</td>\n",
       "      <td>Silverthorne, Mr. Spencer Victor</td>\n",
       "      <td>male</td>\n",
       "      <td>35.0</td>\n",
       "      <td>0</td>\n",
       "      <td>0</td>\n",
       "      <td>PC 17475</td>\n",
       "      <td>26.2875</td>\n",
       "      <td>E24</td>\n",
       "      <td>S</td>\n",
       "    </tr>\n",
       "    <tr>\n",
       "      <th>21</th>\n",
       "      <td>166</td>\n",
       "      <td>1</td>\n",
       "      <td>3</td>\n",
       "      <td>Goldsmith, Master. Frank John William \"Frankie\"</td>\n",
       "      <td>male</td>\n",
       "      <td>9.0</td>\n",
       "      <td>0</td>\n",
       "      <td>2</td>\n",
       "      <td>363291</td>\n",
       "      <td>20.5250</td>\n",
       "      <td>NaN</td>\n",
       "      <td>S</td>\n",
       "    </tr>\n",
       "    <tr>\n",
       "      <th>...</th>\n",
       "      <td>...</td>\n",
       "      <td>...</td>\n",
       "      <td>...</td>\n",
       "      <td>...</td>\n",
       "      <td>...</td>\n",
       "      <td>...</td>\n",
       "      <td>...</td>\n",
       "      <td>...</td>\n",
       "      <td>...</td>\n",
       "      <td>...</td>\n",
       "      <td>...</td>\n",
       "      <td>...</td>\n",
       "    </tr>\n",
       "    <tr>\n",
       "      <th>864</th>\n",
       "      <td>580</td>\n",
       "      <td>1</td>\n",
       "      <td>3</td>\n",
       "      <td>Jussila, Mr. Eiriik</td>\n",
       "      <td>male</td>\n",
       "      <td>32.0</td>\n",
       "      <td>0</td>\n",
       "      <td>0</td>\n",
       "      <td>STON/O 2. 3101286</td>\n",
       "      <td>7.9250</td>\n",
       "      <td>NaN</td>\n",
       "      <td>S</td>\n",
       "    </tr>\n",
       "    <tr>\n",
       "      <th>876</th>\n",
       "      <td>227</td>\n",
       "      <td>1</td>\n",
       "      <td>2</td>\n",
       "      <td>Mellors, Mr. William John</td>\n",
       "      <td>male</td>\n",
       "      <td>19.0</td>\n",
       "      <td>0</td>\n",
       "      <td>0</td>\n",
       "      <td>SW/PP 751</td>\n",
       "      <td>10.5000</td>\n",
       "      <td>NaN</td>\n",
       "      <td>S</td>\n",
       "    </tr>\n",
       "    <tr>\n",
       "      <th>882</th>\n",
       "      <td>883</td>\n",
       "      <td>0</td>\n",
       "      <td>3</td>\n",
       "      <td>Dahlberg, Miss. Gerda Ulrika</td>\n",
       "      <td>female</td>\n",
       "      <td>22.0</td>\n",
       "      <td>0</td>\n",
       "      <td>0</td>\n",
       "      <td>7552</td>\n",
       "      <td>10.5167</td>\n",
       "      <td>NaN</td>\n",
       "      <td>S</td>\n",
       "    </tr>\n",
       "    <tr>\n",
       "      <th>884</th>\n",
       "      <td>147</td>\n",
       "      <td>1</td>\n",
       "      <td>3</td>\n",
       "      <td>Andersson, Mr. August Edvard (\"Wennerstrom\")</td>\n",
       "      <td>male</td>\n",
       "      <td>27.0</td>\n",
       "      <td>0</td>\n",
       "      <td>0</td>\n",
       "      <td>350043</td>\n",
       "      <td>7.7958</td>\n",
       "      <td>NaN</td>\n",
       "      <td>S</td>\n",
       "    </tr>\n",
       "    <tr>\n",
       "      <th>888</th>\n",
       "      <td>24</td>\n",
       "      <td>1</td>\n",
       "      <td>1</td>\n",
       "      <td>Sloper, Mr. William Thompson</td>\n",
       "      <td>male</td>\n",
       "      <td>28.0</td>\n",
       "      <td>0</td>\n",
       "      <td>0</td>\n",
       "      <td>113788</td>\n",
       "      <td>35.5000</td>\n",
       "      <td>A6</td>\n",
       "      <td>S</td>\n",
       "    </tr>\n",
       "  </tbody>\n",
       "</table>\n",
       "<p>163 rows × 12 columns</p>\n",
       "</div>"
      ],
      "text/plain": [
       "     PassengerId  Survived  Pclass  \\\n",
       "1            363         0       3   \n",
       "4            188         1       1   \n",
       "15            42         0       2   \n",
       "17           702         1       1   \n",
       "21           166         1       3   \n",
       "..           ...       ...     ...   \n",
       "864          580         1       3   \n",
       "876          227         1       2   \n",
       "882          883         0       3   \n",
       "884          147         1       3   \n",
       "888           24         1       1   \n",
       "\n",
       "                                                  Name     Sex   Age  SibSp  \\\n",
       "1                      Barbara, Mrs. (Catherine David)  female  45.0      0   \n",
       "4        Romaine, Mr. Charles Hallace (\"Mr C Rolmane\")    male  45.0      0   \n",
       "15   Turpin, Mrs. William John Robert (Dorothy Ann ...  female  27.0      1   \n",
       "17                    Silverthorne, Mr. Spencer Victor    male  35.0      0   \n",
       "21     Goldsmith, Master. Frank John William \"Frankie\"    male   9.0      0   \n",
       "..                                                 ...     ...   ...    ...   \n",
       "864                                Jussila, Mr. Eiriik    male  32.0      0   \n",
       "876                          Mellors, Mr. William John    male  19.0      0   \n",
       "882                       Dahlberg, Miss. Gerda Ulrika  female  22.0      0   \n",
       "884       Andersson, Mr. August Edvard (\"Wennerstrom\")    male  27.0      0   \n",
       "888                       Sloper, Mr. William Thompson    male  28.0      0   \n",
       "\n",
       "     Parch             Ticket     Fare Cabin Embarked  \n",
       "1        1               2691  14.4542   NaN        C  \n",
       "4        0             111428  26.5500   NaN        S  \n",
       "15       0              11668  21.0000   NaN        S  \n",
       "17       0           PC 17475  26.2875   E24        S  \n",
       "21       2             363291  20.5250   NaN        S  \n",
       "..     ...                ...      ...   ...      ...  \n",
       "864      0  STON/O 2. 3101286   7.9250   NaN        S  \n",
       "876      0          SW/PP 751  10.5000   NaN        S  \n",
       "882      0               7552  10.5167   NaN        S  \n",
       "884      0             350043   7.7958   NaN        S  \n",
       "888      0             113788  35.5000    A6        S  \n",
       "\n",
       "[163 rows x 12 columns]"
      ]
     },
     "execution_count": 37,
     "metadata": {},
     "output_type": "execute_result"
    }
   ],
   "source": [
    "params = {'C': 1.5813176556296222, 'gamma': 0.08589955934294802, 'kernel': 'rbf'}\n",
    "best_SVM_clf = SVC(**params)\n",
    "y_pred = cross_val_predict(best_SVM_clf, X, y, cv=5)\n",
    "\n",
    "errors_SVM = data[y_pred != y]\n",
    "errors_SVM"
   ]
  },
  {
   "cell_type": "code",
   "execution_count": 38,
   "metadata": {
    "collapsed": false,
    "pycharm": {
     "name": "#%%\n"
    }
   },
   "outputs": [
    {
     "data": {
      "text/html": [
       "<div>\n",
       "<style scoped>\n",
       "    .dataframe tbody tr th:only-of-type {\n",
       "        vertical-align: middle;\n",
       "    }\n",
       "\n",
       "    .dataframe tbody tr th {\n",
       "        vertical-align: top;\n",
       "    }\n",
       "\n",
       "    .dataframe thead th {\n",
       "        text-align: right;\n",
       "    }\n",
       "</style>\n",
       "<table border=\"1\" class=\"dataframe\">\n",
       "  <thead>\n",
       "    <tr style=\"text-align: right;\">\n",
       "      <th></th>\n",
       "      <th>PassengerId</th>\n",
       "      <th>Survived</th>\n",
       "      <th>Pclass</th>\n",
       "      <th>Name</th>\n",
       "      <th>Sex</th>\n",
       "      <th>Age</th>\n",
       "      <th>SibSp</th>\n",
       "      <th>Parch</th>\n",
       "      <th>Ticket</th>\n",
       "      <th>Fare</th>\n",
       "      <th>Cabin</th>\n",
       "      <th>Embarked</th>\n",
       "    </tr>\n",
       "  </thead>\n",
       "  <tbody>\n",
       "    <tr>\n",
       "      <th>4</th>\n",
       "      <td>188</td>\n",
       "      <td>1</td>\n",
       "      <td>1</td>\n",
       "      <td>Romaine, Mr. Charles Hallace (\"Mr C Rolmane\")</td>\n",
       "      <td>male</td>\n",
       "      <td>45.0</td>\n",
       "      <td>0</td>\n",
       "      <td>0</td>\n",
       "      <td>111428</td>\n",
       "      <td>26.5500</td>\n",
       "      <td>NaN</td>\n",
       "      <td>S</td>\n",
       "    </tr>\n",
       "    <tr>\n",
       "      <th>15</th>\n",
       "      <td>42</td>\n",
       "      <td>0</td>\n",
       "      <td>2</td>\n",
       "      <td>Turpin, Mrs. William John Robert (Dorothy Ann ...</td>\n",
       "      <td>female</td>\n",
       "      <td>27.0</td>\n",
       "      <td>1</td>\n",
       "      <td>0</td>\n",
       "      <td>11668</td>\n",
       "      <td>21.0000</td>\n",
       "      <td>NaN</td>\n",
       "      <td>S</td>\n",
       "    </tr>\n",
       "    <tr>\n",
       "      <th>21</th>\n",
       "      <td>166</td>\n",
       "      <td>1</td>\n",
       "      <td>3</td>\n",
       "      <td>Goldsmith, Master. Frank John William \"Frankie\"</td>\n",
       "      <td>male</td>\n",
       "      <td>9.0</td>\n",
       "      <td>0</td>\n",
       "      <td>2</td>\n",
       "      <td>363291</td>\n",
       "      <td>20.5250</td>\n",
       "      <td>NaN</td>\n",
       "      <td>S</td>\n",
       "    </tr>\n",
       "    <tr>\n",
       "      <th>46</th>\n",
       "      <td>256</td>\n",
       "      <td>1</td>\n",
       "      <td>3</td>\n",
       "      <td>Touma, Mrs. Darwis (Hanne Youssef Razi)</td>\n",
       "      <td>female</td>\n",
       "      <td>29.0</td>\n",
       "      <td>0</td>\n",
       "      <td>2</td>\n",
       "      <td>2650</td>\n",
       "      <td>15.2458</td>\n",
       "      <td>NaN</td>\n",
       "      <td>C</td>\n",
       "    </tr>\n",
       "    <tr>\n",
       "      <th>56</th>\n",
       "      <td>856</td>\n",
       "      <td>1</td>\n",
       "      <td>3</td>\n",
       "      <td>Aks, Mrs. Sam (Leah Rosen)</td>\n",
       "      <td>female</td>\n",
       "      <td>18.0</td>\n",
       "      <td>0</td>\n",
       "      <td>1</td>\n",
       "      <td>392091</td>\n",
       "      <td>9.3500</td>\n",
       "      <td>NaN</td>\n",
       "      <td>S</td>\n",
       "    </tr>\n",
       "    <tr>\n",
       "      <th>...</th>\n",
       "      <td>...</td>\n",
       "      <td>...</td>\n",
       "      <td>...</td>\n",
       "      <td>...</td>\n",
       "      <td>...</td>\n",
       "      <td>...</td>\n",
       "      <td>...</td>\n",
       "      <td>...</td>\n",
       "      <td>...</td>\n",
       "      <td>...</td>\n",
       "      <td>...</td>\n",
       "      <td>...</td>\n",
       "    </tr>\n",
       "    <tr>\n",
       "      <th>864</th>\n",
       "      <td>580</td>\n",
       "      <td>1</td>\n",
       "      <td>3</td>\n",
       "      <td>Jussila, Mr. Eiriik</td>\n",
       "      <td>male</td>\n",
       "      <td>32.0</td>\n",
       "      <td>0</td>\n",
       "      <td>0</td>\n",
       "      <td>STON/O 2. 3101286</td>\n",
       "      <td>7.9250</td>\n",
       "      <td>NaN</td>\n",
       "      <td>S</td>\n",
       "    </tr>\n",
       "    <tr>\n",
       "      <th>874</th>\n",
       "      <td>550</td>\n",
       "      <td>1</td>\n",
       "      <td>2</td>\n",
       "      <td>Davies, Master. John Morgan Jr</td>\n",
       "      <td>male</td>\n",
       "      <td>8.0</td>\n",
       "      <td>1</td>\n",
       "      <td>1</td>\n",
       "      <td>C.A. 33112</td>\n",
       "      <td>36.7500</td>\n",
       "      <td>NaN</td>\n",
       "      <td>S</td>\n",
       "    </tr>\n",
       "    <tr>\n",
       "      <th>876</th>\n",
       "      <td>227</td>\n",
       "      <td>1</td>\n",
       "      <td>2</td>\n",
       "      <td>Mellors, Mr. William John</td>\n",
       "      <td>male</td>\n",
       "      <td>19.0</td>\n",
       "      <td>0</td>\n",
       "      <td>0</td>\n",
       "      <td>SW/PP 751</td>\n",
       "      <td>10.5000</td>\n",
       "      <td>NaN</td>\n",
       "      <td>S</td>\n",
       "    </tr>\n",
       "    <tr>\n",
       "      <th>884</th>\n",
       "      <td>147</td>\n",
       "      <td>1</td>\n",
       "      <td>3</td>\n",
       "      <td>Andersson, Mr. August Edvard (\"Wennerstrom\")</td>\n",
       "      <td>male</td>\n",
       "      <td>27.0</td>\n",
       "      <td>0</td>\n",
       "      <td>0</td>\n",
       "      <td>350043</td>\n",
       "      <td>7.7958</td>\n",
       "      <td>NaN</td>\n",
       "      <td>S</td>\n",
       "    </tr>\n",
       "    <tr>\n",
       "      <th>888</th>\n",
       "      <td>24</td>\n",
       "      <td>1</td>\n",
       "      <td>1</td>\n",
       "      <td>Sloper, Mr. William Thompson</td>\n",
       "      <td>male</td>\n",
       "      <td>28.0</td>\n",
       "      <td>0</td>\n",
       "      <td>0</td>\n",
       "      <td>113788</td>\n",
       "      <td>35.5000</td>\n",
       "      <td>A6</td>\n",
       "      <td>S</td>\n",
       "    </tr>\n",
       "  </tbody>\n",
       "</table>\n",
       "<p>157 rows × 12 columns</p>\n",
       "</div>"
      ],
      "text/plain": [
       "     PassengerId  Survived  Pclass  \\\n",
       "4            188         1       1   \n",
       "15            42         0       2   \n",
       "21           166         1       3   \n",
       "46           256         1       3   \n",
       "56           856         1       3   \n",
       "..           ...       ...     ...   \n",
       "864          580         1       3   \n",
       "874          550         1       2   \n",
       "876          227         1       2   \n",
       "884          147         1       3   \n",
       "888           24         1       1   \n",
       "\n",
       "                                                  Name     Sex   Age  SibSp  \\\n",
       "4        Romaine, Mr. Charles Hallace (\"Mr C Rolmane\")    male  45.0      0   \n",
       "15   Turpin, Mrs. William John Robert (Dorothy Ann ...  female  27.0      1   \n",
       "21     Goldsmith, Master. Frank John William \"Frankie\"    male   9.0      0   \n",
       "46             Touma, Mrs. Darwis (Hanne Youssef Razi)  female  29.0      0   \n",
       "56                          Aks, Mrs. Sam (Leah Rosen)  female  18.0      0   \n",
       "..                                                 ...     ...   ...    ...   \n",
       "864                                Jussila, Mr. Eiriik    male  32.0      0   \n",
       "874                     Davies, Master. John Morgan Jr    male   8.0      1   \n",
       "876                          Mellors, Mr. William John    male  19.0      0   \n",
       "884       Andersson, Mr. August Edvard (\"Wennerstrom\")    male  27.0      0   \n",
       "888                       Sloper, Mr. William Thompson    male  28.0      0   \n",
       "\n",
       "     Parch             Ticket     Fare Cabin Embarked  \n",
       "4        0             111428  26.5500   NaN        S  \n",
       "15       0              11668  21.0000   NaN        S  \n",
       "21       2             363291  20.5250   NaN        S  \n",
       "46       2               2650  15.2458   NaN        C  \n",
       "56       1             392091   9.3500   NaN        S  \n",
       "..     ...                ...      ...   ...      ...  \n",
       "864      0  STON/O 2. 3101286   7.9250   NaN        S  \n",
       "874      1         C.A. 33112  36.7500   NaN        S  \n",
       "876      0          SW/PP 751  10.5000   NaN        S  \n",
       "884      0             350043   7.7958   NaN        S  \n",
       "888      0             113788  35.5000    A6        S  \n",
       "\n",
       "[157 rows x 12 columns]"
      ]
     },
     "execution_count": 38,
     "metadata": {},
     "output_type": "execute_result"
    }
   ],
   "source": [
    "params = {'n_estimators': 400, 'max_leaf_nodes': 29, 'max_features': 23, 'max_depth': 8}\n",
    "best_rndf_clf = RandomForestClassifier(**params)\n",
    "y_pred = cross_val_predict(best_rndf_clf, X, y, cv=5)\n",
    "\n",
    "errors_rndf = data[y_pred != y]\n",
    "errors_rndf"
   ]
  },
  {
   "cell_type": "code",
   "execution_count": 166,
   "metadata": {
    "collapsed": false,
    "pycharm": {
     "name": "#%%\n"
    }
   },
   "outputs": [
    {
     "data": {
      "image/png": "[encoded data removed]",
      "text/plain": [
       "<Figure size 432x288 with 1 Axes>"
      ]
     },
     "metadata": {},
     "output_type": "display_data"
    }
   ],
   "source": [
    "from matplotlib_venn import venn3\n",
    "\n",
    "set1 = set(errors_SVM.index)\n",
    "set2 = set(errors_rndf.index)\n",
    "set3 = set(errors_tree.index)\n",
    "\n",
    "venn3([set1, set2, set3], ('SVM', 'Random Forest', 'Decision Tree'))\n",
    "plt.savefig(IMAGES_PATH+'/error_venn_plot.png')\n",
    "plt.show()"
   ]
  },
  {
   "cell_type": "markdown",
   "metadata": {
    "collapsed": false,
    "pycharm": {
     "name": "#%% md\n"
    }
   },
   "source": [
    "All three classifiers make common mistakes at same instances, let's explore these instances."
   ]
  },
  {
   "cell_type": "code",
   "execution_count": 82,
   "metadata": {
    "collapsed": false,
    "pycharm": {
     "name": "#%%\n"
    }
   },
   "outputs": [
    {
     "data": {
      "text/html": [
       "<div>\n",
       "<style scoped>\n",
       "    .dataframe tbody tr th:only-of-type {\n",
       "        vertical-align: middle;\n",
       "    }\n",
       "\n",
       "    .dataframe tbody tr th {\n",
       "        vertical-align: top;\n",
       "    }\n",
       "\n",
       "    .dataframe thead th {\n",
       "        text-align: right;\n",
       "    }\n",
       "</style>\n",
       "<table border=\"1\" class=\"dataframe\">\n",
       "  <thead>\n",
       "    <tr style=\"text-align: right;\">\n",
       "      <th></th>\n",
       "      <th>PassengerId</th>\n",
       "      <th>Survived</th>\n",
       "      <th>Pclass</th>\n",
       "      <th>Name</th>\n",
       "      <th>Sex</th>\n",
       "      <th>Age</th>\n",
       "      <th>SibSp</th>\n",
       "      <th>Parch</th>\n",
       "      <th>Ticket</th>\n",
       "      <th>Fare</th>\n",
       "      <th>Cabin</th>\n",
       "      <th>Embarked</th>\n",
       "    </tr>\n",
       "  </thead>\n",
       "  <tbody>\n",
       "    <tr>\n",
       "      <th>512</th>\n",
       "      <td>570</td>\n",
       "      <td>1</td>\n",
       "      <td>3</td>\n",
       "      <td>Jonsson, Mr. Carl</td>\n",
       "      <td>male</td>\n",
       "      <td>32.0</td>\n",
       "      <td>0</td>\n",
       "      <td>0</td>\n",
       "      <td>350417</td>\n",
       "      <td>7.8542</td>\n",
       "      <td>NaN</td>\n",
       "      <td>S</td>\n",
       "    </tr>\n",
       "    <tr>\n",
       "      <th>4</th>\n",
       "      <td>188</td>\n",
       "      <td>1</td>\n",
       "      <td>1</td>\n",
       "      <td>Romaine, Mr. Charles Hallace (\"Mr C Rolmane\")</td>\n",
       "      <td>male</td>\n",
       "      <td>45.0</td>\n",
       "      <td>0</td>\n",
       "      <td>0</td>\n",
       "      <td>111428</td>\n",
       "      <td>26.5500</td>\n",
       "      <td>NaN</td>\n",
       "      <td>S</td>\n",
       "    </tr>\n",
       "    <tr>\n",
       "      <th>516</th>\n",
       "      <td>221</td>\n",
       "      <td>1</td>\n",
       "      <td>3</td>\n",
       "      <td>Sunderland, Mr. Victor Francis</td>\n",
       "      <td>male</td>\n",
       "      <td>16.0</td>\n",
       "      <td>0</td>\n",
       "      <td>0</td>\n",
       "      <td>SOTON/OQ 392089</td>\n",
       "      <td>8.0500</td>\n",
       "      <td>NaN</td>\n",
       "      <td>S</td>\n",
       "    </tr>\n",
       "    <tr>\n",
       "      <th>519</th>\n",
       "      <td>703</td>\n",
       "      <td>0</td>\n",
       "      <td>3</td>\n",
       "      <td>Barbara, Miss. Saiide</td>\n",
       "      <td>female</td>\n",
       "      <td>18.0</td>\n",
       "      <td>0</td>\n",
       "      <td>1</td>\n",
       "      <td>2691</td>\n",
       "      <td>14.4542</td>\n",
       "      <td>NaN</td>\n",
       "      <td>C</td>\n",
       "    </tr>\n",
       "    <tr>\n",
       "      <th>15</th>\n",
       "      <td>42</td>\n",
       "      <td>0</td>\n",
       "      <td>2</td>\n",
       "      <td>Turpin, Mrs. William John Robert (Dorothy Ann ...</td>\n",
       "      <td>female</td>\n",
       "      <td>27.0</td>\n",
       "      <td>1</td>\n",
       "      <td>0</td>\n",
       "      <td>11668</td>\n",
       "      <td>21.0000</td>\n",
       "      <td>NaN</td>\n",
       "      <td>S</td>\n",
       "    </tr>\n",
       "    <tr>\n",
       "      <th>...</th>\n",
       "      <td>...</td>\n",
       "      <td>...</td>\n",
       "      <td>...</td>\n",
       "      <td>...</td>\n",
       "      <td>...</td>\n",
       "      <td>...</td>\n",
       "      <td>...</td>\n",
       "      <td>...</td>\n",
       "      <td>...</td>\n",
       "      <td>...</td>\n",
       "      <td>...</td>\n",
       "      <td>...</td>\n",
       "    </tr>\n",
       "    <tr>\n",
       "      <th>458</th>\n",
       "      <td>313</td>\n",
       "      <td>0</td>\n",
       "      <td>2</td>\n",
       "      <td>Lahtinen, Mrs. William (Anna Sylfven)</td>\n",
       "      <td>female</td>\n",
       "      <td>26.0</td>\n",
       "      <td>1</td>\n",
       "      <td>1</td>\n",
       "      <td>250651</td>\n",
       "      <td>26.0000</td>\n",
       "      <td>NaN</td>\n",
       "      <td>S</td>\n",
       "    </tr>\n",
       "    <tr>\n",
       "      <th>470</th>\n",
       "      <td>126</td>\n",
       "      <td>1</td>\n",
       "      <td>3</td>\n",
       "      <td>Nicola-Yarred, Master. Elias</td>\n",
       "      <td>male</td>\n",
       "      <td>12.0</td>\n",
       "      <td>1</td>\n",
       "      <td>0</td>\n",
       "      <td>2651</td>\n",
       "      <td>11.2417</td>\n",
       "      <td>NaN</td>\n",
       "      <td>C</td>\n",
       "    </tr>\n",
       "    <tr>\n",
       "      <th>488</th>\n",
       "      <td>193</td>\n",
       "      <td>1</td>\n",
       "      <td>3</td>\n",
       "      <td>Andersen-Jensen, Miss. Carla Christine Nielsine</td>\n",
       "      <td>female</td>\n",
       "      <td>19.0</td>\n",
       "      <td>1</td>\n",
       "      <td>0</td>\n",
       "      <td>350046</td>\n",
       "      <td>7.8542</td>\n",
       "      <td>NaN</td>\n",
       "      <td>S</td>\n",
       "    </tr>\n",
       "    <tr>\n",
       "      <th>493</th>\n",
       "      <td>824</td>\n",
       "      <td>1</td>\n",
       "      <td>3</td>\n",
       "      <td>Moor, Mrs. (Beila)</td>\n",
       "      <td>female</td>\n",
       "      <td>27.0</td>\n",
       "      <td>0</td>\n",
       "      <td>1</td>\n",
       "      <td>392096</td>\n",
       "      <td>12.4750</td>\n",
       "      <td>E121</td>\n",
       "      <td>S</td>\n",
       "    </tr>\n",
       "    <tr>\n",
       "      <th>509</th>\n",
       "      <td>241</td>\n",
       "      <td>0</td>\n",
       "      <td>3</td>\n",
       "      <td>Zabour, Miss. Thamine</td>\n",
       "      <td>female</td>\n",
       "      <td>NaN</td>\n",
       "      <td>1</td>\n",
       "      <td>0</td>\n",
       "      <td>2665</td>\n",
       "      <td>14.4542</td>\n",
       "      <td>NaN</td>\n",
       "      <td>C</td>\n",
       "    </tr>\n",
       "  </tbody>\n",
       "</table>\n",
       "<p>121 rows × 12 columns</p>\n",
       "</div>"
      ],
      "text/plain": [
       "     PassengerId  Survived  Pclass  \\\n",
       "512          570         1       3   \n",
       "4            188         1       1   \n",
       "516          221         1       3   \n",
       "519          703         0       3   \n",
       "15            42         0       2   \n",
       "..           ...       ...     ...   \n",
       "458          313         0       2   \n",
       "470          126         1       3   \n",
       "488          193         1       3   \n",
       "493          824         1       3   \n",
       "509          241         0       3   \n",
       "\n",
       "                                                  Name     Sex   Age  SibSp  \\\n",
       "512                                  Jonsson, Mr. Carl    male  32.0      0   \n",
       "4        Romaine, Mr. Charles Hallace (\"Mr C Rolmane\")    male  45.0      0   \n",
       "516                     Sunderland, Mr. Victor Francis    male  16.0      0   \n",
       "519                              Barbara, Miss. Saiide  female  18.0      0   \n",
       "15   Turpin, Mrs. William John Robert (Dorothy Ann ...  female  27.0      1   \n",
       "..                                                 ...     ...   ...    ...   \n",
       "458              Lahtinen, Mrs. William (Anna Sylfven)  female  26.0      1   \n",
       "470                       Nicola-Yarred, Master. Elias    male  12.0      1   \n",
       "488    Andersen-Jensen, Miss. Carla Christine Nielsine  female  19.0      1   \n",
       "493                                 Moor, Mrs. (Beila)  female  27.0      0   \n",
       "509                              Zabour, Miss. Thamine  female   NaN      1   \n",
       "\n",
       "     Parch           Ticket     Fare Cabin Embarked  \n",
       "512      0           350417   7.8542   NaN        S  \n",
       "4        0           111428  26.5500   NaN        S  \n",
       "516      0  SOTON/OQ 392089   8.0500   NaN        S  \n",
       "519      1             2691  14.4542   NaN        C  \n",
       "15       0            11668  21.0000   NaN        S  \n",
       "..     ...              ...      ...   ...      ...  \n",
       "458      1           250651  26.0000   NaN        S  \n",
       "470      0             2651  11.2417   NaN        C  \n",
       "488      0           350046   7.8542   NaN        S  \n",
       "493      1           392096  12.4750  E121        S  \n",
       "509      0             2665  14.4542   NaN        C  \n",
       "\n",
       "[121 rows x 12 columns]"
      ]
     },
     "execution_count": 82,
     "metadata": {},
     "output_type": "execute_result"
    }
   ],
   "source": [
    "def find_common_errors(errors):\n",
    "    \"\"\"\n",
    "    Parameters\n",
    "    ----------\n",
    "    errors: a list of Dataframes containing mistaken instance\n",
    "    Returns: Dataframe of common errors\n",
    "    -------\n",
    "    \"\"\"\n",
    "    list_idx = [np.array(i.index) for i in errors]\n",
    "    idx = list_idx[0]\n",
    "    # list(set(list1).intersection(list2))\n",
    "    for i in list_idx:\n",
    "        idx = list(set(i).intersection(idx))\n",
    "\n",
    "    return idx\n",
    "\n",
    "errors = [errors_tree, errors_SVM, errors_rndf]\n",
    "common_idx = find_common_errors(errors)\n",
    "common_errors = errors_tree.loc[common_idx]\n",
    "common_errors"
   ]
  },
  {
   "cell_type": "code",
   "execution_count": 168,
   "metadata": {
    "collapsed": false,
    "pycharm": {
     "name": "#%%\n"
    }
   },
   "outputs": [
    {
     "data": {
      "image/png": "[encoded data removed]",
      "text/plain": [
       "<Figure size 720x576 with 6 Axes>"
      ]
     },
     "metadata": {
      "needs_background": "light"
     },
     "output_type": "display_data"
    }
   ],
   "source": [
    "fig = plt.figure(figsize=(10, 8))\n",
    "\n",
    "subfigs = fig.subfigures(nrows=2, ncols=1)\n",
    "\n",
    "subfigs[0].suptitle('Original Data', fontsize=20)\n",
    "subfigs[0].subplots(nrows=1, ncols=3, sharey=True, sharex=True)\n",
    "plt.subplot(231)\n",
    "sns.histplot(data=data, x=\"Pclass\", hue=\"Survived\", multiple=\"dodge\", shrink=2.0)\n",
    "plt.subplot(232)\n",
    "sns.histplot(data=data, x=\"Sex\", hue=\"Survived\", multiple=\"dodge\", shrink=.6)\n",
    "plt.subplot(233)\n",
    "sns.histplot(data=data, x=\"Embarked\", hue=\"Survived\", multiple=\"dodge\", shrink=.8)\n",
    "\n",
    "subfigs[1].suptitle('Errors', fontsize=20)\n",
    "plt.subplot(234)\n",
    "sns.histplot(data=common_errors, x=\"Pclass\", hue=\"Survived\", multiple=\"dodge\", shrink=2.0)\n",
    "plt.subplot(235)\n",
    "sns.histplot(data=common_errors, x=\"Sex\", hue=\"Survived\", multiple=\"dodge\", shrink=.6)\n",
    "plt.subplot(236)\n",
    "sns.histplot(data=common_errors, x=\"Embarked\", hue=\"Survived\", multiple=\"dodge\", shrink=.8)\n",
    "\n",
    "plt.subplots_adjust(left=None, bottom=None, right=None, top=None, wspace=0.5, hspace=1)\n",
    "plt.savefig(IMAGES_PATH+'/two_distributions.png')\n",
    "plt.show()"
   ]
  },
  {
   "cell_type": "markdown",
   "metadata": {
    "collapsed": false,
    "pycharm": {
     "name": "#%% md\n"
    }
   },
   "source": [
    "# Fill Missing `Age`"
   ]
  },
  {
   "cell_type": "code",
   "execution_count": 11,
   "metadata": {
    "collapsed": false,
    "pycharm": {
     "name": "#%%\n"
    }
   },
   "outputs": [
    {
     "name": "stdout",
     "output_type": "stream",
     "text": [
      "Missing 177 Ages\n"
     ]
    },
    {
     "data": {
      "text/html": [
       "<div>\n",
       "<style scoped>\n",
       "    .dataframe tbody tr th:only-of-type {\n",
       "        vertical-align: middle;\n",
       "    }\n",
       "\n",
       "    .dataframe tbody tr th {\n",
       "        vertical-align: top;\n",
       "    }\n",
       "\n",
       "    .dataframe thead th {\n",
       "        text-align: right;\n",
       "    }\n",
       "</style>\n",
       "<table border=\"1\" class=\"dataframe\">\n",
       "  <thead>\n",
       "    <tr style=\"text-align: right;\">\n",
       "      <th></th>\n",
       "      <th>PassengerId</th>\n",
       "      <th>Survived</th>\n",
       "      <th>Pclass</th>\n",
       "      <th>Name</th>\n",
       "      <th>Sex</th>\n",
       "      <th>Age</th>\n",
       "      <th>SibSp</th>\n",
       "      <th>Parch</th>\n",
       "      <th>Ticket</th>\n",
       "      <th>Fare</th>\n",
       "      <th>Cabin</th>\n",
       "      <th>Embarked</th>\n",
       "    </tr>\n",
       "  </thead>\n",
       "  <tbody>\n",
       "    <tr>\n",
       "      <th>5</th>\n",
       "      <td>6</td>\n",
       "      <td>0</td>\n",
       "      <td>3</td>\n",
       "      <td>Moran, Mr. James</td>\n",
       "      <td>male</td>\n",
       "      <td>NaN</td>\n",
       "      <td>0</td>\n",
       "      <td>0</td>\n",
       "      <td>330877</td>\n",
       "      <td>8.4583</td>\n",
       "      <td>NaN</td>\n",
       "      <td>Q</td>\n",
       "    </tr>\n",
       "    <tr>\n",
       "      <th>17</th>\n",
       "      <td>18</td>\n",
       "      <td>1</td>\n",
       "      <td>2</td>\n",
       "      <td>Williams, Mr. Charles Eugene</td>\n",
       "      <td>male</td>\n",
       "      <td>NaN</td>\n",
       "      <td>0</td>\n",
       "      <td>0</td>\n",
       "      <td>244373</td>\n",
       "      <td>13.0000</td>\n",
       "      <td>NaN</td>\n",
       "      <td>S</td>\n",
       "    </tr>\n",
       "    <tr>\n",
       "      <th>19</th>\n",
       "      <td>20</td>\n",
       "      <td>1</td>\n",
       "      <td>3</td>\n",
       "      <td>Masselmani, Mrs. Fatima</td>\n",
       "      <td>female</td>\n",
       "      <td>NaN</td>\n",
       "      <td>0</td>\n",
       "      <td>0</td>\n",
       "      <td>2649</td>\n",
       "      <td>7.2250</td>\n",
       "      <td>NaN</td>\n",
       "      <td>C</td>\n",
       "    </tr>\n",
       "    <tr>\n",
       "      <th>26</th>\n",
       "      <td>27</td>\n",
       "      <td>0</td>\n",
       "      <td>3</td>\n",
       "      <td>Emir, Mr. Farred Chehab</td>\n",
       "      <td>male</td>\n",
       "      <td>NaN</td>\n",
       "      <td>0</td>\n",
       "      <td>0</td>\n",
       "      <td>2631</td>\n",
       "      <td>7.2250</td>\n",
       "      <td>NaN</td>\n",
       "      <td>C</td>\n",
       "    </tr>\n",
       "    <tr>\n",
       "      <th>28</th>\n",
       "      <td>29</td>\n",
       "      <td>1</td>\n",
       "      <td>3</td>\n",
       "      <td>O'Dwyer, Miss. Ellen \"Nellie\"</td>\n",
       "      <td>female</td>\n",
       "      <td>NaN</td>\n",
       "      <td>0</td>\n",
       "      <td>0</td>\n",
       "      <td>330959</td>\n",
       "      <td>7.8792</td>\n",
       "      <td>NaN</td>\n",
       "      <td>Q</td>\n",
       "    </tr>\n",
       "    <tr>\n",
       "      <th>...</th>\n",
       "      <td>...</td>\n",
       "      <td>...</td>\n",
       "      <td>...</td>\n",
       "      <td>...</td>\n",
       "      <td>...</td>\n",
       "      <td>...</td>\n",
       "      <td>...</td>\n",
       "      <td>...</td>\n",
       "      <td>...</td>\n",
       "      <td>...</td>\n",
       "      <td>...</td>\n",
       "      <td>...</td>\n",
       "    </tr>\n",
       "    <tr>\n",
       "      <th>859</th>\n",
       "      <td>860</td>\n",
       "      <td>0</td>\n",
       "      <td>3</td>\n",
       "      <td>Razi, Mr. Raihed</td>\n",
       "      <td>male</td>\n",
       "      <td>NaN</td>\n",
       "      <td>0</td>\n",
       "      <td>0</td>\n",
       "      <td>2629</td>\n",
       "      <td>7.2292</td>\n",
       "      <td>NaN</td>\n",
       "      <td>C</td>\n",
       "    </tr>\n",
       "    <tr>\n",
       "      <th>863</th>\n",
       "      <td>864</td>\n",
       "      <td>0</td>\n",
       "      <td>3</td>\n",
       "      <td>Sage, Miss. Dorothy Edith \"Dolly\"</td>\n",
       "      <td>female</td>\n",
       "      <td>NaN</td>\n",
       "      <td>8</td>\n",
       "      <td>2</td>\n",
       "      <td>CA. 2343</td>\n",
       "      <td>69.5500</td>\n",
       "      <td>NaN</td>\n",
       "      <td>S</td>\n",
       "    </tr>\n",
       "    <tr>\n",
       "      <th>868</th>\n",
       "      <td>869</td>\n",
       "      <td>0</td>\n",
       "      <td>3</td>\n",
       "      <td>van Melkebeke, Mr. Philemon</td>\n",
       "      <td>male</td>\n",
       "      <td>NaN</td>\n",
       "      <td>0</td>\n",
       "      <td>0</td>\n",
       "      <td>345777</td>\n",
       "      <td>9.5000</td>\n",
       "      <td>NaN</td>\n",
       "      <td>S</td>\n",
       "    </tr>\n",
       "    <tr>\n",
       "      <th>878</th>\n",
       "      <td>879</td>\n",
       "      <td>0</td>\n",
       "      <td>3</td>\n",
       "      <td>Laleff, Mr. Kristo</td>\n",
       "      <td>male</td>\n",
       "      <td>NaN</td>\n",
       "      <td>0</td>\n",
       "      <td>0</td>\n",
       "      <td>349217</td>\n",
       "      <td>7.8958</td>\n",
       "      <td>NaN</td>\n",
       "      <td>S</td>\n",
       "    </tr>\n",
       "    <tr>\n",
       "      <th>888</th>\n",
       "      <td>889</td>\n",
       "      <td>0</td>\n",
       "      <td>3</td>\n",
       "      <td>Johnston, Miss. Catherine Helen \"Carrie\"</td>\n",
       "      <td>female</td>\n",
       "      <td>NaN</td>\n",
       "      <td>1</td>\n",
       "      <td>2</td>\n",
       "      <td>W./C. 6607</td>\n",
       "      <td>23.4500</td>\n",
       "      <td>NaN</td>\n",
       "      <td>S</td>\n",
       "    </tr>\n",
       "  </tbody>\n",
       "</table>\n",
       "<p>177 rows × 12 columns</p>\n",
       "</div>"
      ],
      "text/plain": [
       "     PassengerId  Survived  Pclass                                      Name  \\\n",
       "5              6         0       3                          Moran, Mr. James   \n",
       "17            18         1       2              Williams, Mr. Charles Eugene   \n",
       "19            20         1       3                   Masselmani, Mrs. Fatima   \n",
       "26            27         0       3                   Emir, Mr. Farred Chehab   \n",
       "28            29         1       3             O'Dwyer, Miss. Ellen \"Nellie\"   \n",
       "..           ...       ...     ...                                       ...   \n",
       "859          860         0       3                          Razi, Mr. Raihed   \n",
       "863          864         0       3         Sage, Miss. Dorothy Edith \"Dolly\"   \n",
       "868          869         0       3               van Melkebeke, Mr. Philemon   \n",
       "878          879         0       3                        Laleff, Mr. Kristo   \n",
       "888          889         0       3  Johnston, Miss. Catherine Helen \"Carrie\"   \n",
       "\n",
       "        Sex  Age  SibSp  Parch      Ticket     Fare Cabin Embarked  \n",
       "5      male  NaN      0      0      330877   8.4583   NaN        Q  \n",
       "17     male  NaN      0      0      244373  13.0000   NaN        S  \n",
       "19   female  NaN      0      0        2649   7.2250   NaN        C  \n",
       "26     male  NaN      0      0        2631   7.2250   NaN        C  \n",
       "28   female  NaN      0      0      330959   7.8792   NaN        Q  \n",
       "..      ...  ...    ...    ...         ...      ...   ...      ...  \n",
       "859    male  NaN      0      0        2629   7.2292   NaN        C  \n",
       "863  female  NaN      8      2    CA. 2343  69.5500   NaN        S  \n",
       "868    male  NaN      0      0      345777   9.5000   NaN        S  \n",
       "878    male  NaN      0      0      349217   7.8958   NaN        S  \n",
       "888  female  NaN      1      2  W./C. 6607  23.4500   NaN        S  \n",
       "\n",
       "[177 rows x 12 columns]"
      ]
     },
     "execution_count": 11,
     "metadata": {},
     "output_type": "execute_result"
    }
   ],
   "source": [
    "print('Missing %d Ages'%data.Age.isnull().sum())\n",
    "data[data.Age.isnull()]"
   ]
  },
  {
   "cell_type": "markdown",
   "metadata": {
    "collapsed": false,
    "pycharm": {
     "name": "#%% md\n"
    }
   },
   "source": [
    "## Explore `Name`"
   ]
  },
  {
   "cell_type": "code",
   "execution_count": 15,
   "metadata": {
    "collapsed": false,
    "pycharm": {
     "name": "#%%\n"
    }
   },
   "outputs": [
    {
     "name": "stdout",
     "output_type": "stream",
     "text": [
      "Missing 0 names\n"
     ]
    }
   ],
   "source": [
    "print('Missing %d names'%data.Name.isnull().sum())"
   ]
  },
  {
   "cell_type": "code",
   "execution_count": 56,
   "metadata": {
    "collapsed": false,
    "pycharm": {
     "name": "#%%\n"
    }
   },
   "outputs": [
    {
     "name": "stdout",
     "output_type": "stream",
     "text": [
      "{' Sir', ' Lady', ' Dr', ' Don', ' Ms', ' Rev', ' Mr', ' Miss', ' Col', ' Jonkheer', ' Master', ' Major', ' the Countess', ' Mrs', ' Capt', ' Mlle', ' Mme'}\n"
     ]
    },
    {
     "data": {
      "text/html": [
       "<div>\n",
       "<style scoped>\n",
       "    .dataframe tbody tr th:only-of-type {\n",
       "        vertical-align: middle;\n",
       "    }\n",
       "\n",
       "    .dataframe tbody tr th {\n",
       "        vertical-align: top;\n",
       "    }\n",
       "\n",
       "    .dataframe thead th {\n",
       "        text-align: right;\n",
       "    }\n",
       "</style>\n",
       "<table border=\"1\" class=\"dataframe\">\n",
       "  <thead>\n",
       "    <tr style=\"text-align: right;\">\n",
       "      <th></th>\n",
       "      <th>PassengerId</th>\n",
       "      <th>Survived</th>\n",
       "      <th>Pclass</th>\n",
       "      <th>Name</th>\n",
       "      <th>Sex</th>\n",
       "      <th>Age</th>\n",
       "      <th>SibSp</th>\n",
       "      <th>Parch</th>\n",
       "      <th>Ticket</th>\n",
       "      <th>Fare</th>\n",
       "      <th>Cabin</th>\n",
       "      <th>Embarked</th>\n",
       "      <th>title</th>\n",
       "    </tr>\n",
       "  </thead>\n",
       "  <tbody>\n",
       "    <tr>\n",
       "      <th>0</th>\n",
       "      <td>1</td>\n",
       "      <td>0</td>\n",
       "      <td>3</td>\n",
       "      <td>Braund, Mr. Owen Harris</td>\n",
       "      <td>male</td>\n",
       "      <td>22.0</td>\n",
       "      <td>1</td>\n",
       "      <td>0</td>\n",
       "      <td>A/5 21171</td>\n",
       "      <td>7.2500</td>\n",
       "      <td>NaN</td>\n",
       "      <td>S</td>\n",
       "      <td>Mr</td>\n",
       "    </tr>\n",
       "    <tr>\n",
       "      <th>1</th>\n",
       "      <td>2</td>\n",
       "      <td>1</td>\n",
       "      <td>1</td>\n",
       "      <td>Cumings, Mrs. John Bradley (Florence Briggs Th...</td>\n",
       "      <td>female</td>\n",
       "      <td>38.0</td>\n",
       "      <td>1</td>\n",
       "      <td>0</td>\n",
       "      <td>PC 17599</td>\n",
       "      <td>71.2833</td>\n",
       "      <td>C85</td>\n",
       "      <td>C</td>\n",
       "      <td>Mrs</td>\n",
       "    </tr>\n",
       "    <tr>\n",
       "      <th>2</th>\n",
       "      <td>3</td>\n",
       "      <td>1</td>\n",
       "      <td>3</td>\n",
       "      <td>Heikkinen, Miss. Laina</td>\n",
       "      <td>female</td>\n",
       "      <td>26.0</td>\n",
       "      <td>0</td>\n",
       "      <td>0</td>\n",
       "      <td>STON/O2. 3101282</td>\n",
       "      <td>7.9250</td>\n",
       "      <td>NaN</td>\n",
       "      <td>S</td>\n",
       "      <td>Miss</td>\n",
       "    </tr>\n",
       "    <tr>\n",
       "      <th>3</th>\n",
       "      <td>4</td>\n",
       "      <td>1</td>\n",
       "      <td>1</td>\n",
       "      <td>Futrelle, Mrs. Jacques Heath (Lily May Peel)</td>\n",
       "      <td>female</td>\n",
       "      <td>35.0</td>\n",
       "      <td>1</td>\n",
       "      <td>0</td>\n",
       "      <td>113803</td>\n",
       "      <td>53.1000</td>\n",
       "      <td>C123</td>\n",
       "      <td>S</td>\n",
       "      <td>Mrs</td>\n",
       "    </tr>\n",
       "    <tr>\n",
       "      <th>4</th>\n",
       "      <td>5</td>\n",
       "      <td>0</td>\n",
       "      <td>3</td>\n",
       "      <td>Allen, Mr. William Henry</td>\n",
       "      <td>male</td>\n",
       "      <td>35.0</td>\n",
       "      <td>0</td>\n",
       "      <td>0</td>\n",
       "      <td>373450</td>\n",
       "      <td>8.0500</td>\n",
       "      <td>NaN</td>\n",
       "      <td>S</td>\n",
       "      <td>Mr</td>\n",
       "    </tr>\n",
       "    <tr>\n",
       "      <th>...</th>\n",
       "      <td>...</td>\n",
       "      <td>...</td>\n",
       "      <td>...</td>\n",
       "      <td>...</td>\n",
       "      <td>...</td>\n",
       "      <td>...</td>\n",
       "      <td>...</td>\n",
       "      <td>...</td>\n",
       "      <td>...</td>\n",
       "      <td>...</td>\n",
       "      <td>...</td>\n",
       "      <td>...</td>\n",
       "      <td>...</td>\n",
       "    </tr>\n",
       "    <tr>\n",
       "      <th>886</th>\n",
       "      <td>887</td>\n",
       "      <td>0</td>\n",
       "      <td>2</td>\n",
       "      <td>Montvila, Rev. Juozas</td>\n",
       "      <td>male</td>\n",
       "      <td>27.0</td>\n",
       "      <td>0</td>\n",
       "      <td>0</td>\n",
       "      <td>211536</td>\n",
       "      <td>13.0000</td>\n",
       "      <td>NaN</td>\n",
       "      <td>S</td>\n",
       "      <td>Rev</td>\n",
       "    </tr>\n",
       "    <tr>\n",
       "      <th>887</th>\n",
       "      <td>888</td>\n",
       "      <td>1</td>\n",
       "      <td>1</td>\n",
       "      <td>Graham, Miss. Margaret Edith</td>\n",
       "      <td>female</td>\n",
       "      <td>19.0</td>\n",
       "      <td>0</td>\n",
       "      <td>0</td>\n",
       "      <td>112053</td>\n",
       "      <td>30.0000</td>\n",
       "      <td>B42</td>\n",
       "      <td>S</td>\n",
       "      <td>Miss</td>\n",
       "    </tr>\n",
       "    <tr>\n",
       "      <th>888</th>\n",
       "      <td>889</td>\n",
       "      <td>0</td>\n",
       "      <td>3</td>\n",
       "      <td>Johnston, Miss. Catherine Helen \"Carrie\"</td>\n",
       "      <td>female</td>\n",
       "      <td>NaN</td>\n",
       "      <td>1</td>\n",
       "      <td>2</td>\n",
       "      <td>W./C. 6607</td>\n",
       "      <td>23.4500</td>\n",
       "      <td>NaN</td>\n",
       "      <td>S</td>\n",
       "      <td>Miss</td>\n",
       "    </tr>\n",
       "    <tr>\n",
       "      <th>889</th>\n",
       "      <td>890</td>\n",
       "      <td>1</td>\n",
       "      <td>1</td>\n",
       "      <td>Behr, Mr. Karl Howell</td>\n",
       "      <td>male</td>\n",
       "      <td>26.0</td>\n",
       "      <td>0</td>\n",
       "      <td>0</td>\n",
       "      <td>111369</td>\n",
       "      <td>30.0000</td>\n",
       "      <td>C148</td>\n",
       "      <td>C</td>\n",
       "      <td>Mr</td>\n",
       "    </tr>\n",
       "    <tr>\n",
       "      <th>890</th>\n",
       "      <td>891</td>\n",
       "      <td>0</td>\n",
       "      <td>3</td>\n",
       "      <td>Dooley, Mr. Patrick</td>\n",
       "      <td>male</td>\n",
       "      <td>32.0</td>\n",
       "      <td>0</td>\n",
       "      <td>0</td>\n",
       "      <td>370376</td>\n",
       "      <td>7.7500</td>\n",
       "      <td>NaN</td>\n",
       "      <td>Q</td>\n",
       "      <td>Mr</td>\n",
       "    </tr>\n",
       "  </tbody>\n",
       "</table>\n",
       "<p>891 rows × 13 columns</p>\n",
       "</div>"
      ],
      "text/plain": [
       "     PassengerId  Survived  Pclass  \\\n",
       "0              1         0       3   \n",
       "1              2         1       1   \n",
       "2              3         1       3   \n",
       "3              4         1       1   \n",
       "4              5         0       3   \n",
       "..           ...       ...     ...   \n",
       "886          887         0       2   \n",
       "887          888         1       1   \n",
       "888          889         0       3   \n",
       "889          890         1       1   \n",
       "890          891         0       3   \n",
       "\n",
       "                                                  Name     Sex   Age  SibSp  \\\n",
       "0                              Braund, Mr. Owen Harris    male  22.0      1   \n",
       "1    Cumings, Mrs. John Bradley (Florence Briggs Th...  female  38.0      1   \n",
       "2                               Heikkinen, Miss. Laina  female  26.0      0   \n",
       "3         Futrelle, Mrs. Jacques Heath (Lily May Peel)  female  35.0      1   \n",
       "4                             Allen, Mr. William Henry    male  35.0      0   \n",
       "..                                                 ...     ...   ...    ...   \n",
       "886                              Montvila, Rev. Juozas    male  27.0      0   \n",
       "887                       Graham, Miss. Margaret Edith  female  19.0      0   \n",
       "888           Johnston, Miss. Catherine Helen \"Carrie\"  female   NaN      1   \n",
       "889                              Behr, Mr. Karl Howell    male  26.0      0   \n",
       "890                                Dooley, Mr. Patrick    male  32.0      0   \n",
       "\n",
       "     Parch            Ticket     Fare Cabin Embarked  title  \n",
       "0        0         A/5 21171   7.2500   NaN        S     Mr  \n",
       "1        0          PC 17599  71.2833   C85        C    Mrs  \n",
       "2        0  STON/O2. 3101282   7.9250   NaN        S   Miss  \n",
       "3        0            113803  53.1000  C123        S    Mrs  \n",
       "4        0            373450   8.0500   NaN        S     Mr  \n",
       "..     ...               ...      ...   ...      ...    ...  \n",
       "886      0            211536  13.0000   NaN        S    Rev  \n",
       "887      0            112053  30.0000   B42        S   Miss  \n",
       "888      2        W./C. 6607  23.4500   NaN        S   Miss  \n",
       "889      0            111369  30.0000  C148        C     Mr  \n",
       "890      0            370376   7.7500   NaN        Q     Mr  \n",
       "\n",
       "[891 rows x 13 columns]"
      ]
     },
     "execution_count": 56,
     "metadata": {},
     "output_type": "execute_result"
    }
   ],
   "source": [
    "def get_title(data):\n",
    "    np_names = np.array(data.Name)\n",
    "    titles = []\n",
    "    for name in np_names:\n",
    "        family_name = name.split(',')[-1]\n",
    "        title = family_name.split('.')[0]\n",
    "        titles.append(title)\n",
    "\n",
    "    set_titles = set(titles)\n",
    "    data['title'] = titles\n",
    "\n",
    "    return set_titles\n",
    "\n",
    "set_titles = get_title(data)\n",
    "print(set_titles)\n",
    "data"
   ]
  },
  {
   "cell_type": "code",
   "execution_count": 78,
   "metadata": {
    "collapsed": false,
    "pycharm": {
     "name": "#%%\n"
    }
   },
   "outputs": [
    {
     "data": {
      "image/png": "[encoded data removed]",
      "text/plain": [
       "<Figure size 1080x720 with 17 Axes>"
      ]
     },
     "metadata": {
      "needs_background": "light"
     },
     "output_type": "display_data"
    }
   ],
   "source": [
    "def plot_age_distribution(data, set_titles, plots_per_row=5):\n",
    "    n = len(set_titles)\n",
    "    n_rows = n // plots_per_row + 1\n",
    "    n_cols = plots_per_row\n",
    "    fig = plt.figure(figsize=(15, 10))\n",
    "\n",
    "    for (i, title) in enumerate(set_titles):\n",
    "        plt.subplot(n_rows, n_cols, i+1)\n",
    "        data_temp = data[data.title==title]\n",
    "        data_temp.Age.plot.hist()\n",
    "        plt.title(title)\n",
    "    plt.subplots_adjust(hspace=0.5, wspace=0.5)\n",
    "    plt.show()\n",
    "\n",
    "plot_age_distribution(data=data, set_titles=set_titles)"
   ]
  },
  {
   "cell_type": "markdown",
   "metadata": {
    "collapsed": false,
    "pycharm": {
     "name": "#%% md\n"
    }
   },
   "source": [
    "There are a few dirty data, such as `Jonkheer`"
   ]
  },
  {
   "cell_type": "markdown",
   "metadata": {
    "collapsed": false,
    "pycharm": {
     "name": "#%% md\n"
    }
   },
   "source": [
    "Check titles of passengers with missing `Age`"
   ]
  },
  {
   "cell_type": "code",
   "execution_count": 86,
   "metadata": {
    "collapsed": false,
    "pycharm": {
     "name": "#%%\n"
    }
   },
   "outputs": [
    {
     "name": "stdout",
     "output_type": "stream",
     "text": [
      "titles of passengers with missing Age {' Dr', ' Mr', ' Miss', ' Master', ' Mrs'}\n"
     ]
    }
   ],
   "source": [
    "mask = data.Age.isnull()\n",
    "print('titles of passengers with missing Age', set(data[mask].title))"
   ]
  },
  {
   "cell_type": "markdown",
   "metadata": {
    "collapsed": false,
    "pycharm": {
     "name": "#%% md\n"
    }
   },
   "source": [
    "## Fill `Age` with median in the group"
   ]
  },
  {
   "cell_type": "code",
   "execution_count": 170,
   "metadata": {
    "collapsed": false,
    "pycharm": {
     "name": "#%%\n"
    }
   },
   "outputs": [],
   "source": [
    "from sklearn.utils import shuffle\n",
    "from sklearn.pipeline import Pipeline\n",
    "from sklearn.preprocessing import OneHotEncoder, StandardScaler\n",
    "from sklearn.compose import ColumnTransformer\n",
    "\n",
    "def get_title(data):\n",
    "    np_names = np.array(data.Name)\n",
    "    titles = []\n",
    "    for name in np_names:\n",
    "        family_name = name.split(',')[-1]\n",
    "        title = family_name.split('.')[0]\n",
    "        titles.append(title)\n",
    "\n",
    "    set_titles = set(titles)\n",
    "    data['Title'] = titles\n",
    "\n",
    "    return set_titles\n",
    "\n",
    "data = load_train_data()\n",
    "get_title(data)\n",
    "data['Age'] = data.groupby('Title').Age.transform(lambda x: x.fillna(x.median()))\n",
    "\n",
    "num_pipeline = Pipeline([\n",
    "    (\"std_scaler\", StandardScaler()),\n",
    "  ])\n",
    "\n",
    "num_attribs = [\"Age\", \"Fare\"]\n",
    "cat_attribs = [\"Pclass\", \"Sex\", \"SibSp\", \"Parch\", \"Embarked\"]\n",
    "\n",
    "full_pipeline = ColumnTransformer([\n",
    "    (\"num\", num_pipeline, num_attribs),\n",
    "    (\"cat\", OneHotEncoder(), cat_attribs),\n",
    "])\n",
    "\n",
    "data = shuffle(data, random_state=42)\n",
    "data.reset_index(inplace=True, drop=True)\n",
    "X = full_pipeline.fit_transform(data)\n",
    "y = data[\"Survived\"].to_numpy()"
   ]
  },
  {
   "cell_type": "markdown",
   "metadata": {
    "collapsed": false,
    "pycharm": {
     "name": "#%% md\n"
    }
   },
   "source": [
    "## Logistic Regression (81.5%)"
   ]
  },
  {
   "cell_type": "code",
   "execution_count": 171,
   "metadata": {
    "collapsed": false,
    "pycharm": {
     "name": "#%%\n"
    }
   },
   "outputs": [
    {
     "name": "stdout",
     "output_type": "stream",
     "text": [
      "accuracy: 0.815\n"
     ]
    }
   ],
   "source": [
    "from sklearn.linear_model import LogisticRegression\n",
    "\n",
    "clf = LogisticRegression(random_state=42)\n",
    "score = cross_val_score(clf, X, y, scoring='accuracy', cv=5)\n",
    "print('accuracy: %.3f'%score.mean())"
   ]
  },
  {
   "cell_type": "markdown",
   "metadata": {
    "collapsed": false,
    "pycharm": {
     "name": "#%% md\n"
    }
   },
   "source": [
    "An improvement of 0.7%"
   ]
  },
  {
   "cell_type": "code",
   "execution_count": null,
   "metadata": {
    "collapsed": false,
    "pycharm": {
     "name": "#%%\n"
    }
   },
   "outputs": [],
   "source": []
  }
 ],
 "metadata": {
  "kernelspec": {
   "display_name": "Python 3.9.13 64-bit",
   "language": "python",
   "name": "python3"
  },
  "language_info": {
   "codemirror_mode": {
    "name": "ipython",
    "version": 3
   },
   "file_extension": ".py",
   "mimetype": "text/x-python",
   "name": "python",
   "nbconvert_exporter": "python",
   "pygments_lexer": "ipython3",
   "version": "3.9.13"
  },
  "toc-autonumbering": true,
  "vscode": {
   "interpreter": {
    "hash": "8f45179ff88b195bb928ed85e101b3223b096944854cb7f7aebd451ed090cae8"
   }
  }
 },
 "nbformat": 4,
 "nbformat_minor": 5
}
