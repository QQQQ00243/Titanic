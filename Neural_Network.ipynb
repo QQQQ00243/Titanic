{
 "cells": [
  {
   "cell_type": "code",
   "execution_count": null,
   "metadata": {
    "collapsed": true
   },
   "outputs": [],
   "source": [
    "import keras\n",
    "import tensorflow as tf\n",
    "\n",
    "from keras import layers"
   ]
  },
  {
   "cell_type": "code",
   "execution_count": null,
   "outputs": [],
   "source": [
    "def build_model(n_hidden=3, n_neurons=30,\n",
    "                learning_rate=1e-3, input_shape=17):\n",
    "    model = keras.models.Sequential()\n",
    "    model.add(layers.InputLayer(input_shape=input_shape))\n",
    "\n",
    "    for layer in range(n_hidden):\n",
    "        model.add(layers.Dense(n_neurons, activation=\"relu\"))\n",
    "\n",
    "    model.add(layers.Dense(1, activation=\"sigmoid\"))\n",
    "    optimizer = tf.keras.optimizers.Adam(learning_rate=learning_rate)\n",
    "    model.compile(loss=\"binary_crossentropy\", optimizer=optimizer, metrics=[\"accuracy\"])\n",
    "\n",
    "\n",
    "    return model"
   ],
   "metadata": {
    "collapsed": false,
    "pycharm": {
     "name": "#%%\n"
    }
   }
  },
  {
   "cell_type": "code",
   "execution_count": null,
   "outputs": [],
   "source": [
    "earlystopping = keras.callbacks.EarlyStopping(\n",
    "    monitor=\"val_accuracy\",\n",
    "    patience=20,\n",
    "    mode=\"max\",\n",
    ")\n",
    "\n",
    "params = {\n",
    "    \"x\": X, \"y\": y,\n",
    "    \"batch_size\": 32, \"epochs\": 100,\n",
    "    \"validation_split\": 0.1,\n",
    "    \"callbacks\": [earlystopping],\n",
    "    \"verbose\": 0,\n",
    "}\n",
    "history = model.fit(**params)"
   ],
   "metadata": {
    "collapsed": false,
    "pycharm": {
     "name": "#%%\n"
    }
   }
  },
  {
   "cell_type": "code",
   "execution_count": null,
   "outputs": [],
   "source": [
    "pd.DataFrame(history.history).plot(figsize=(8, 6))"
   ],
   "metadata": {
    "collapsed": false,
    "pycharm": {
     "name": "#%%\n"
    }
   }
  },
  {
   "cell_type": "code",
   "execution_count": null,
   "outputs": [],
   "source": [
    "list_n_neurons = [10, 100, 200]\n",
    "list_n_hidden = [3, 10, 100]\n",
    "shape = (len(list_n_neurons), len(list_n_hidden))\n",
    "score = np.empty(shape)\n",
    "\n",
    "for (i, n_hidden) in enumerate(list_n_hidden):\n",
    "    for (j, n_neurons) in enumerate(list_n_neurons):\n",
    "        model = build_model(n_hidden=n_hidden, n_neurons=n_neurons)\n",
    "        model.fit(**params)\n",
    "        score[i, j] = model.evaluate(X, y)[1]"
   ],
   "metadata": {
    "collapsed": false,
    "pycharm": {
     "name": "#%%\n"
    }
   }
  },
  {
   "cell_type": "code",
   "execution_count": null,
   "outputs": [],
   "source": [
    "earlystopping = keras.callbacks.EarlyStopping(\n",
    "    monitor=\"val_accuracy\",\n",
    "    patience=20,\n",
    "    mode=\"max\",\n",
    ")\n",
    "\n",
    "params = {\n",
    "    \"x\": X, \"y\": y,\n",
    "    \"batch_size\": 64, \"epochs\": 100,\n",
    "    \"validation_split\": 0.1,\n",
    "    \"callbacks\": [earlystopping],\n",
    "    \"verbose\": 0,\n",
    "}\n",
    "\n",
    "model = build_model(n_hidden=10, n_neurons=100)\n",
    "model.fit(**params)\n",
    "model.evaluate(X, y)"
   ],
   "metadata": {
    "collapsed": false,
    "pycharm": {
     "name": "#%%\n"
    }
   }
  },
  {
   "cell_type": "code",
   "execution_count": null,
   "outputs": [],
   "source": [
    "model = build_model(n_hidden=10, n_neurons=100, learning_rate=1e-2)\n",
    "model.fit(**params)\n",
    "model.evaluate(X, y)"
   ],
   "metadata": {
    "collapsed": false,
    "pycharm": {
     "name": "#%%\n"
    }
   }
  },
  {
   "cell_type": "code",
   "execution_count": null,
   "outputs": [],
   "source": [],
   "metadata": {
    "collapsed": false,
    "pycharm": {
     "name": "#%%\n"
    }
   }
  },
  {
   "cell_type": "code",
   "execution_count": null,
   "outputs": [],
   "source": [],
   "metadata": {
    "collapsed": false,
    "pycharm": {
     "name": "#%%\n"
    }
   }
  }
 ],
 "metadata": {
  "kernelspec": {
   "display_name": "Python 3",
   "language": "python",
   "name": "python3"
  },
  "language_info": {
   "codemirror_mode": {
    "name": "ipython",
    "version": 2
   },
   "file_extension": ".py",
   "mimetype": "text/x-python",
   "name": "python",
   "nbconvert_exporter": "python",
   "pygments_lexer": "ipython2",
   "version": "2.7.6"
  }
 },
 "nbformat": 4,
 "nbformat_minor": 0
}