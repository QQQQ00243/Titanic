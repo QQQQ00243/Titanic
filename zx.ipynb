{
 "cells": [
  {
   "cell_type": "code",
   "execution_count": null,
   "metadata": {},
   "outputs": [],
   "source": [
    "import pandas as pd\n",
    "import numpy as np\n",
    "import matplotlib.pyplot as plt\n",
    "import seaborn as sns\n",
    "\n",
    "\n",
    "train_data=pd.read_csv(\"./train.csv\")\n",
    "test_data=pd.read_csv(\"./test.csv\")\n",
    "\n",
    "train_data.info()"
   ]
  },
  {
   "cell_type": "code",
   "execution_count": null,
   "metadata": {},
   "outputs": [],
   "source": [
    "all_data=pd.concat([train_data,test_data],ignore_index=True)\n",
    "all_data['Title']=all_data['Name'].apply(lambda x:x.split(',')[1].split('.')[0].strip())\n",
    "\n",
    "\n",
    "#print(all_data['Title'])\n",
    "Title_Dict={}\n",
    "Title_Dict.update(dict.fromkeys(['Capt', 'Col', 'Major', 'Dr', 'Rev'], 'Officer'))\n",
    "Title_Dict.update(dict.fromkeys(['Don', 'Sir', 'the Countess', 'Dona', 'Lady'], 'Royalty'))\n",
    "Title_Dict.update(dict.fromkeys(['Mme', 'Ms', 'Mrs'], 'Mrs'))\n",
    "Title_Dict.update(dict.fromkeys(['Mlle', 'Miss'], 'Miss'))\n",
    "Title_Dict.update(dict.fromkeys(['Mr'], 'Mr'))\n",
    "Title_Dict.update(dict.fromkeys(['Master','Jonkheer'], 'Master'))\n",
    "\n",
    "all_data['Title']=all_data['Title'].map(Title_Dict)\n",
    "\n",
    "all_data['FamilySize']=all_data['SibSp']+all_data['Parch']+1\n",
    "#sns.barplot(x='FamilySize',y='Survived',data=all_data)\n",
    "\n",
    "\n",
    "def Fam_label(x):\n",
    "    if(x>=2)&(x<=4):\n",
    "        return 2\n",
    "    elif(x<=7):\n",
    "        return 1\n",
    "    else:\n",
    "        return 0\n",
    "\n",
    "all_data['FamilyLabel']=all_data['FamilySize'].apply(Fam_label)\n",
    "\n",
    "\n",
    "all_data['Cabin']=all_data['Cabin'].fillna('Unknown')\n",
    "all_data['Deck']=all_data['Cabin'].str.get(0)\n",
    "\n",
    "print(all_data['Ticket'].value_counts())\n",
    "Ticket_Count=dict(all_data['Ticket'].value_counts())\n",
    "all_data['TicketGroup']=all_data['Ticket'].apply(lambda x:Ticket_Count[x])\n",
    "\n",
    "def Ticket_Label(x):\n",
    "    if(x>=2&x<=4):\n",
    "        return 2\n",
    "    elif (x<=8):\n",
    "        return 1\n",
    "    else:\n",
    "        return 0\n",
    "\n",
    "all_data['TicketLabel']=all_data['TicketGroup'].apply(Ticket_Label)\n"
   ]
  },
  {
   "cell_type": "code",
   "execution_count": null,
   "metadata": {},
   "outputs": [],
   "source": [
    "from sklearn.ensemble import RandomForestRegressor\n",
    "\n",
    "age_df = all_data[['Age', 'Pclass','Sex','Title']]\n",
    "age_df=pd.get_dummies(age_df)\n",
    "known_age = age_df[age_df.Age.notnull()].iloc[:,:].values\n",
    "unknown_age = age_df[age_df.Age.isnull()].iloc[:,:].values\n",
    "#print(known_age,unknown_age)\n",
    "\n",
    "y=known_age[:,0]\n",
    "X=known_age[:,1:]\n",
    "\n",
    "rfr=RandomForestRegressor(random_state=0,n_estimators=100,n_jobs=-1)\n",
    "rfr.fit(X,y)\n",
    "\n",
    "predictedAges=rfr.predict(unknown_age[:,1::])\n",
    "print(predictedAges)\n",
    "all_data.loc[(all_data.Age.isnull()),'Age']=predictedAges\n",
    "\n"
   ]
  },
  {
   "cell_type": "code",
   "execution_count": null,
   "metadata": {},
   "outputs": [],
   "source": [
    "\n",
    "all_data['Embarked']=all_data['Embarked'].fillna('C')\n",
    "fare=all_data[(all_data['Embarked']=='S')&(all_data['Pclass']==3)]['Fare'].median()\n",
    "\n",
    "all_data['Fare']=all_data['Fare'].fillna(fare)\n",
    "all_data['Surname']=all_data['Name'].apply(lambda x:x.split(',')[0].strip())\n",
    "Surname_Count = dict(all_data['Surname'].value_counts())\n",
    "all_data['FamilyGroup'] = all_data['Surname'].apply(lambda x:Surname_Count[x])\n",
    "Female_Child_Group=all_data.loc[(all_data['FamilyGroup']>=2) & ((all_data['Age']<=12) | (all_data['Sex']=='female'))]\n",
    "Male_Adult_Group=all_data.loc[(all_data['FamilyGroup']>=2) & (all_data['Age']>12) & (all_data['Sex']=='male')]"
   ]
  },
  {
   "cell_type": "code",
   "execution_count": null,
   "metadata": {},
   "outputs": [],
   "source": [
    "Female_Child_Group=Female_Child_Group.groupby('Surname')['Survived'].mean()\n",
    "Dead_List=set(Female_Child_Group[Female_Child_Group.apply(lambda x:x==0)].index)\n",
    "print(Dead_List)\n",
    "Male_Adult_List=Male_Adult_Group.groupby('Surname')['Survived'].mean()\n",
    "Survived_List=set(Male_Adult_List[Male_Adult_List.apply(lambda x:x==1)].index)\n",
    "print(Survived_List)"
   ]
  },
  {
   "cell_type": "code",
   "execution_count": null,
   "metadata": {},
   "outputs": [],
   "source": [
    "train_data=all_data.loc[all_data['Survived'].notnull()]\n",
    "test_data=all_data.loc[all_data['Survived'].isnull()]\n",
    "test_data.loc[(test_data['Surname'].apply(lambda x:x in Dead_List)),'Sex'] = 'male'\n",
    "test_data.loc[(test_data['Surname'].apply(lambda x:x in Dead_List)),'Age'] = 60\n",
    "test_data.loc[(test_data['Surname'].apply(lambda x:x in Dead_List)),'Title'] = 'Mr'\n",
    "test_data.loc[(test_data['Surname'].apply(lambda x:x in Survived_List)),'Sex'] = 'female'\n",
    "test_data.loc[(test_data['Surname'].apply(lambda x:x in Survived_List)),'Age'] = 5\n",
    "test_data.loc[(test_data['Surname'].apply(lambda x:x in Survived_List)),'Title'] = 'Miss'"
   ]
  },
  {
   "cell_type": "code",
   "execution_count": null,
   "metadata": {},
   "outputs": [],
   "source": [
    "all_data=pd.concat([train_data, test_data])\n",
    "all_data=all_data[['Survived','Pclass','Sex','Age','Fare','Embarked','Title','FamilyLabel','Deck','TicketGroup']]\n",
    "all_data=pd.get_dummies(all_data)\n",
    "train=all_data[all_data['Survived'].notnull()]\n",
    "test=all_data[all_data['Survived'].isnull()].drop('Survived',axis=1)\n",
    "X = train.iloc[:,:].values[:,1:]\n",
    "y = train.iloc[:,:].values[:,0]"
   ]
  },
  {
   "cell_type": "code",
   "execution_count": null,
   "metadata": {},
   "outputs": [],
   "source": [
    "from sklearn.pipeline import Pipeline\n",
    "from sklearn.ensemble import RandomForestClassifier\n",
    "from sklearn.model_selection import GridSearchCV\n",
    "from sklearn.feature_selection import SelectKBest\n",
    "\n",
    "\n",
    "pipe=Pipeline([('select',SelectKBest(k=20)), \n",
    "               ('classify', RandomForestClassifier(random_state = 10, max_features = 'sqrt'))])\n",
    "\n",
    "param_test = {'classify__n_estimators':list(range(20,50,2)), \n",
    "              'classify__max_depth':list(range(3,60,3))}\n",
    "gsearch = GridSearchCV(estimator = pipe, param_grid = param_test, scoring='roc_auc', cv=10)\n",
    "gsearch.fit(X,y)\n",
    "\n",
    "print(gsearch.best_params_, gsearch.best_score_)"
   ]
  },
  {
   "cell_type": "code",
   "execution_count": null,
   "metadata": {},
   "outputs": [],
   "source": [
    "from sklearn.pipeline import make_pipeline\n",
    "select = SelectKBest(k = 20)\n",
    "clf = RandomForestClassifier(random_state = 10, warm_start = True, \n",
    "                                  n_estimators = 32,\n",
    "                                  max_depth = 6, \n",
    "                                  max_features = 'sqrt')\n",
    "pipeline = make_pipeline(select, clf)\n",
    "pipeline.fit(X, y)\n"
   ]
  },
  {
   "cell_type": "code",
   "execution_count": null,
   "metadata": {},
   "outputs": [],
   "source": [
    "from sklearn import model_selection, metrics\n",
    "cv_score = model_selection.cross_val_score(pipeline, X, y, cv= 10)\n",
    "print(\"CV Score : Mean - %.7g | Std - %.7g \" % (np.mean(cv_score), np.std(cv_score)))\n",
    "predictions = pipeline.predict(test)\n",
    "submission=pd.DataFrame({\"PassengerId\":test_data['PassengerId'],\"Survived\":predictions.astype(np.int32)})\n",
    "submission.to_csv(\"submission.csv\",index=False)"
   ]
  }
 ],
 "metadata": {
  "kernelspec": {
   "display_name": "Python 3.9.13 64-bit",
   "language": "python",
   "name": "python3"
  },
  "language_info": {
   "codemirror_mode": {
    "name": "ipython",
    "version": 3
   },
   "file_extension": ".py",
   "mimetype": "text/x-python",
   "name": "python",
   "nbconvert_exporter": "python",
   "pygments_lexer": "ipython3",
   "version": "3.9.13"
  },
  "orig_nbformat": 4,
  "vscode": {
   "interpreter": {
    "hash": "8f45179ff88b195bb928ed85e101b3223b096944854cb7f7aebd451ed090cae8"
   }
  }
 },
 "nbformat": 4,
 "nbformat_minor": 2
}
